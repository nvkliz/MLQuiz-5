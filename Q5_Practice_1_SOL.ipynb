{
 "cells": [
  {
   "cell_type": "markdown",
   "metadata": {
    "nbgrader": {
     "grade": false,
     "grade_id": "cell-8f753fb477124825",
     "locked": true,
     "schema_version": 3,
     "solution": false,
     "task": false
    }
   },
   "source": [
    "<div class=\"image\">\n",
    "\n",
    "  <img style=\"float: right;\" src=\"https://dx5i3n065oxey.cloudfront.net/platform/4186/assets/logo.png?v=2e76f927-9482-4bfb-9092-d9a0b595cd2c\" width=\"45%\" align=\"right\">\n",
    "      <h4>\n",
    "          <p style=\"font-size:20pt\">Programming for Business Analytics</p>\n",
    "          <p style=\"font-size:15pt\">Q5 Practice 1</p>\n",
    "      </h4>\n",
    "</div>\n",
    "\n",
    "- Make sure you have executed the code in the cell below.\n",
    "- Make sure you read the questions carefully and follow the instructions.\n",
    "- Make sure you put the answers in the Answer cells.\n",
    "- Please do not put your answers in comments (after #).\n",
    "- Please do not add any new cells between the Question and Answer cells.\n",
    "- Please do not change the names of the variables in Answer cells.\n",
    "- Please do not assign the expected result directly to the variable."
   ]
  },
  {
   "cell_type": "code",
   "execution_count": null,
   "metadata": {
    "nbgrader": {
     "grade": false,
     "grade_id": "cell-1caa724cde882d33",
     "locked": true,
     "schema_version": 3,
     "solution": false,
     "task": false
    }
   },
   "outputs": [],
   "source": [
    "#Please make sure your Jupyter Notebook environment is running a Python 3 kernel \n",
    "import IPython\n",
    "assert IPython.version_info[0] >= 3, \"Your version of IPython is too old, please update it.\"\n",
    "%autosave 120"
   ]
  },
  {
   "cell_type": "markdown",
   "metadata": {
    "nbgrader": {
     "grade": false,
     "grade_id": "cell-1ad54529b2804357",
     "locked": true,
     "schema_version": 3,
     "solution": false,
     "task": false
    }
   },
   "source": [
    "<div class=\"alert alert-warning\"> \n",
    "<b>QUESTION 1:</b> \n",
    "<p>What is a potential reason for an <code>IndentationError</code> to be raised?</p>\n",
    "<p> a) A variable that was used has not been defined.</p>\n",
    "<p> b) A block of code is missing a tab.</p>\n",
    "<p> c) There is an assertion that is <code>False</code>.</p>\n",
    "<p> d) A value that is used is a string instead of an integer.</p>\n",
    "\n",
    "</div>"
   ]
  },
  {
   "cell_type": "code",
   "execution_count": null,
   "metadata": {
    "nbgrader": {
     "grade": false,
     "grade_id": "cell-80a2f4212fce3781",
     "locked": false,
     "schema_version": 3,
     "solution": true,
     "task": false
    }
   },
   "outputs": [],
   "source": [
    "###ANSWER(1). Please assign the letter representing the correct answer to the variable \n",
    "### (write it down between the \"\")\n",
    "answer_1 = \"b\""
   ]
  },
  {
   "cell_type": "code",
   "execution_count": null,
   "metadata": {
    "nbgrader": {
     "grade": true,
     "grade_id": "cell-835ced5bccf7799e",
     "locked": true,
     "points": 10,
     "schema_version": 3,
     "solution": false,
     "task": false
    }
   },
   "outputs": [],
   "source": [
    "#Please leave this cell blank."
   ]
  },
  {
   "cell_type": "markdown",
   "metadata": {
    "nbgrader": {
     "grade": false,
     "grade_id": "cell-aada8bc67a36bd6f",
     "locked": true,
     "schema_version": 3,
     "solution": false,
     "task": false
    }
   },
   "source": [
    "<div class=\"alert alert-warning\"> \n",
    "<b>QUESTION 2:</b>\n",
    "<p>Use <b>ONE LINE</b> code to define a string and assign the value to a varible named <code>answer_2</code>. If we print <code>answer_2</code>, the expected output is shown as below.</p>\n",
    "\n",
    "```\n",
    "Dear Alice,\n",
    "\n",
    "Eve's cat has been found in hotel \"Kitty\".\n",
    "\n",
    "Sincerely,\n",
    "Bob\n",
    "```\n",
    "\n",
    "</div>"
   ]
  },
  {
   "cell_type": "code",
   "execution_count": null,
   "metadata": {
    "nbgrader": {
     "grade": false,
     "grade_id": "cell-75304455a1925d44",
     "locked": false,
     "schema_version": 3,
     "solution": true,
     "task": false
    }
   },
   "outputs": [],
   "source": [
    "###ANSWER(2)\n",
    "answer_2 = 'Dear Alice,\\n\\nEve\\'s cat has been found in hotel \"Kitty\".\\n\\nSincerely,\\nBob' # complete the code here\n",
    "print(answer_2)"
   ]
  },
  {
   "cell_type": "code",
   "execution_count": null,
   "metadata": {
    "nbgrader": {
     "grade": true,
     "grade_id": "cell-a098b5b94b8c3138",
     "locked": true,
     "points": 10,
     "schema_version": 3,
     "solution": false,
     "task": false
    }
   },
   "outputs": [],
   "source": [
    "#Please leave this cell blank."
   ]
  },
  {
   "cell_type": "markdown",
   "metadata": {
    "nbgrader": {
     "grade": false,
     "grade_id": "cell-98843bd7c0abf400",
     "locked": true,
     "schema_version": 3,
     "solution": false,
     "task": false
    }
   },
   "source": [
    "<div class=\"alert alert-warning\">\n",
    "<b>QUESTION 3:</b>\n",
    "\n",
    "<p>One of the activation functions used in neural network is SQNL. A piecewise SQNL function $f(x)$ has been defined as below.</p>\n",
    "    \n",
    "<p>$f(x) = \\left\\{\\begin{matrix} 1 & :x>2.0\\\\ x-\\frac{x^{2}}{4}&:0\\leq x\\leq 2.0 \\\\ x+\\frac{x^{2}}{4}&:-2.0\\leq x<0 \\\\ -1 & :x<-2.0 \\end{matrix}\\right.$</p>\n",
    "<br>    \n",
    "<p>Write a function called <code><b>SQNL</b></code> which takes a number as the argument. The function would <b>return</b> the result of applying the activation function.</p>\n",
    "<br>\n",
    "<p>Execute <code><b>SQNL(0.2)</b></code>, the expected output is <code>0.19</code>.</p>\n",
    "<p>Execute <code><b>SQNL(100)</b></code>, the expected output is <code>1</code>.</p>\n",
    "</div>"
   ]
  },
  {
   "cell_type": "code",
   "execution_count": null,
   "metadata": {
    "nbgrader": {
     "grade": false,
     "grade_id": "cell-fc65c2d9c992e18b",
     "locked": false,
     "schema_version": 3,
     "solution": true,
     "task": false
    }
   },
   "outputs": [],
   "source": [
    "###ANSWER(3)\n",
    "# Please write your code here.\n",
    "def SQNL(x):\n",
    "    if x > 2.0:\n",
    "        return 1\n",
    "    elif x >= 0:\n",
    "        return x - x**2/4\n",
    "    elif x >= -2.0:\n",
    "        return x + x**2/4\n",
    "    else:\n",
    "        return -1"
   ]
  },
  {
   "cell_type": "code",
   "execution_count": null,
   "metadata": {
    "nbgrader": {
     "grade": true,
     "grade_id": "cell-d0b4b4331fc9729a",
     "locked": true,
     "points": 10,
     "schema_version": 3,
     "solution": false,
     "task": false
    }
   },
   "outputs": [],
   "source": [
    "#Please leave this cell blank."
   ]
  },
  {
   "cell_type": "markdown",
   "metadata": {
    "nbgrader": {
     "grade": false,
     "grade_id": "cell-b40001da61c03623",
     "locked": true,
     "schema_version": 3,
     "solution": false,
     "task": false
    }
   },
   "source": [
    "<div class=\"alert alert-warning\">\n",
    "<b>QUESTION 4:</b>\n",
    "<p>Two sets have been defined as below. One is a set of engineers and the other one is a set of data scientists in a company.</p>\n",
    "\n",
    "```python\n",
    "engineers = set(['Chris', 'John', 'Jane', 'Jack', 'Matt', 'Janice', 'Mary'])\n",
    "data_scientists = set(['Mike', 'Jack', 'Sam', 'Susan', 'Janice', 'Mary'])\n",
    "```\n",
    "    \n",
    "<p>Use a set operation to find the names of people who are both engineers and data scientists and assign the value to a set <code>engineers_and_data_scientists</code>. If we print <code>engineers_and_data_scientists</code>, the expected output is <code>{'Janice', 'Mary', 'Jack'}</code>. </p>\n",
    "    <br>\n",
    "    <p>Please do <b>NOT</b> write: <code>engineers_and_data_scientists = {'Janice', 'Mary', 'Jack'}</code> directly.</p>\n",
    "</div>"
   ]
  },
  {
   "cell_type": "code",
   "execution_count": null,
   "metadata": {
    "nbgrader": {
     "grade": false,
     "grade_id": "cell-fbedf414f1b54709",
     "locked": false,
     "schema_version": 3,
     "solution": true,
     "task": false
    }
   },
   "outputs": [],
   "source": [
    "###ANSWER(4)\n",
    "engineers = set(['Chris', 'John', 'Jane', 'Jack', 'Matt', 'Janice', 'Mary'])\n",
    "data_scientists = set(['Mike', 'Jack', 'Sam', 'Susan', 'Janice', 'Mary'])\n",
    "engineers_and_data_scientists = engineers & data_scientists  # Please write your code here."
   ]
  },
  {
   "cell_type": "code",
   "execution_count": null,
   "metadata": {
    "nbgrader": {
     "grade": true,
     "grade_id": "cell-458bae9d4b589c32",
     "locked": true,
     "points": 10,
     "schema_version": 3,
     "solution": false,
     "task": false
    }
   },
   "outputs": [],
   "source": [
    "#Please leave this cell blank."
   ]
  },
  {
   "cell_type": "markdown",
   "metadata": {
    "nbgrader": {
     "grade": false,
     "grade_id": "cell-886c58d8ef016fa5",
     "locked": true,
     "schema_version": 3,
     "solution": false,
     "task": false
    }
   },
   "source": [
    "<div class=\"alert alert-warning\">\n",
    "<b>QUESTION 5:</b>\n",
    "\n",
    "<p>A list called <code>nums</code> has been defined in the cell below. </p>\n",
    "    \n",
    "```python\n",
    "nums = [-1, -2, -3, 4, 5, -6, -7, -8]    \n",
    "```\n",
    "    \n",
    "<p>Write <b>ONE LINE</b> of code to replace the negative numbers in <code>nums</code> with <code>'-'</code> and positive numbers with <code>'+'</code> and assign the value to <code>nums</code>. If we print <code>nums</code>, the expected output would be: <code>['-', '-', '-', '+', '+', '-', '-', '-']</code>.</p>\n",
    "\n",
    "<br>\n",
    "<b>DO NOT</b> write <code>nums = ['-', '-', '-', '+', '+', '-', '-', '-']</code> directly.\n",
    "    \n",
    "</div>"
   ]
  },
  {
   "cell_type": "code",
   "execution_count": null,
   "metadata": {
    "nbgrader": {
     "grade": false,
     "grade_id": "cell-a93421f18c19f199",
     "locked": false,
     "schema_version": 3,
     "solution": true,
     "task": false
    }
   },
   "outputs": [],
   "source": [
    "###ANSWER(5)\n",
    "nums = [-1, -2, -3, 4, 5, -6, -7, -8]\n",
    "nums = ['-' if x <0 else '+' for x in nums] # Please write your code here (ONE LINE of code).\n",
    "print(nums)"
   ]
  },
  {
   "cell_type": "code",
   "execution_count": null,
   "metadata": {
    "nbgrader": {
     "grade": true,
     "grade_id": "cell-3378c131f260174d",
     "locked": true,
     "points": 10,
     "schema_version": 3,
     "solution": false,
     "task": false
    }
   },
   "outputs": [],
   "source": [
    "#Please leave this cell blank."
   ]
  },
  {
   "cell_type": "markdown",
   "metadata": {
    "nbgrader": {
     "grade": false,
     "grade_id": "cell-f12a35c8e63787f7",
     "locked": true,
     "schema_version": 3,
     "solution": false,
     "task": false
    }
   },
   "source": [
    "<div class=\"alert alert-warning\">\n",
    "<b>QUESTION 6: </b> \n",
    "\n",
    "<p>Use a <code>while</code> loop to calculate the cube sum of the first 10 natural numbers, $1^{3}+2^{3}+3^{3}+4^{3}+5^{3}+6^{3}+7^{3}+8^{3}+9^{3}+10^{3}$, and assign the result to variable named <code>answer_6</code>. If we print <code>answer_6</code>, the expected output would be $3025$.</p>\n",
    "    <br>\n",
    "<b>DO NOT</b> write <code>answer_6 = 3025</code> directly.\n",
    " \n",
    "</div>"
   ]
  },
  {
   "cell_type": "code",
   "execution_count": null,
   "metadata": {
    "nbgrader": {
     "grade": false,
     "grade_id": "cell-5d9a5ebd9c5d23e0",
     "locked": false,
     "schema_version": 3,
     "solution": true,
     "task": false
    }
   },
   "outputs": [],
   "source": [
    "###ANSWER(6)\n",
    "# Please write your code here.\n",
    "n=1\n",
    "answer_6 = 0\n",
    "while n < 11:\n",
    "    answer_6 += n**3\n",
    "    n += 1"
   ]
  },
  {
   "cell_type": "code",
   "execution_count": null,
   "metadata": {
    "nbgrader": {
     "grade": true,
     "grade_id": "cell-5904cbe2279e80f0",
     "locked": true,
     "points": 10,
     "schema_version": 3,
     "solution": false,
     "task": false
    }
   },
   "outputs": [],
   "source": [
    "#Please leave this cell blank."
   ]
  },
  {
   "cell_type": "markdown",
   "metadata": {
    "nbgrader": {
     "grade": false,
     "grade_id": "cell-92390d6703f5d568",
     "locked": true,
     "schema_version": 3,
     "solution": false,
     "task": false
    }
   },
   "source": [
    "<div class=\"alert alert-warning\">\n",
    "<b>QUESTION 7:</b>\n",
    "<p>A list called <code>matrix</code> has been defined in the cell below. </p>\n",
    "    \n",
    "```python\n",
    "matrix = [[-6, \"-5\", -4], [-3, \"-2\", -1], [1, \"2\", 3], [4, \"5\", 6]]    \n",
    "```\n",
    "    \n",
    "<p>Use <b>ONE LINE</b> of code to flatten the list <code>matrix</code> and reverse its order and assign the flattened list to the variable <code>flattened</code>. If we print <code>flattened</code>, the expected output would be: <code>[6, '5', 4, 3, '2', 1, -1, '-2', -3, -4, '-5', -6]</code>.</p>\n",
    "<br>\n",
    "<p>Please do not write: <code>flattened = [6, '5', 4, 3, '2', 1, -1, '-2', -3, -4, '-5', -6]</code> directly.</p>\n",
    "</div>"
   ]
  },
  {
   "cell_type": "code",
   "execution_count": null,
   "metadata": {
    "nbgrader": {
     "grade": false,
     "grade_id": "cell-7e4015568b0a31f9",
     "locked": false,
     "schema_version": 3,
     "solution": true,
     "task": false
    }
   },
   "outputs": [],
   "source": [
    "###ANSWER(7)\n",
    "matrix = [[-6, \"-5\", -4], [-3, \"-2\", -1], [1, \"2\", 3], [4, \"5\", 6]]\n",
    "flattened = [item for row in matrix for item in row][::-1] # Please write your code here in one line\n",
    "print(flattened)"
   ]
  },
  {
   "cell_type": "code",
   "execution_count": null,
   "metadata": {
    "nbgrader": {
     "grade": true,
     "grade_id": "cell-f0b3dc82503af981",
     "locked": true,
     "points": 10,
     "schema_version": 3,
     "solution": false,
     "task": false
    }
   },
   "outputs": [],
   "source": [
    "#Please leave this cell blank."
   ]
  },
  {
   "cell_type": "markdown",
   "metadata": {
    "nbgrader": {
     "grade": false,
     "grade_id": "cell-c8fd49e4f0dbffbc",
     "locked": true,
     "schema_version": 3,
     "solution": false,
     "task": false
    }
   },
   "source": [
    "<div class=\"alert alert-warning\">\n",
    "<b>QUESTION 8:</b>\n",
    "<p>The formula to convert Celsius to Fahrenheit and Fahrenheit to Celsius is given as below:</p>\n",
    "$Fahrenheit = Celsius * \\frac{9}{5} + 32$\n",
    "<br>\n",
    "$Celsius = (Fahrenheit - 32) * \\frac{5}{9}$\n",
    "<br>\n",
    "<p>Define a function <code><b>temp_converter</b></code> that should take two arguments: <code>t</code> temperature to be converted and <code>celsius_input</code> boolean value, which, if it is <code>True</code>, means that the input is in Celsius; if it is <code>False</code>, means that the input is in Fahrenheit. The function converts temperature from Fahrenheit to Celsius and Celsius to Fahrenheit. The converted temperature should be <b>returned</b> as an <b>integer</b>.</p>\n",
    "<br>\n",
    "<p>Execute <code><b>temp_converter(0, celsius_input = True)</b></code>, the expected output is <code>32</code>.</p>\n",
    "<p>Execute <code><b>temp_converter(32, celsius_input = False</b></code>, the expected output is <code>0</code>.</p>\n",
    "</div>"
   ]
  },
  {
   "cell_type": "code",
   "execution_count": null,
   "metadata": {
    "nbgrader": {
     "grade": false,
     "grade_id": "cell-3fdc0102cbf9d5f7",
     "locked": false,
     "schema_version": 3,
     "solution": true,
     "task": false
    }
   },
   "outputs": [],
   "source": [
    "###ANSWER(8)\n",
    "def temp_converter(t, celsius_input):\n",
    "    if celsius_input == True:\n",
    "        c = 9.0/5.0 * t + 32\n",
    "        return int(c)\n",
    "    else:\n",
    "        f = (t - 32) * 5.0/9.0\n",
    "        return int(f)"
   ]
  },
  {
   "cell_type": "code",
   "execution_count": null,
   "metadata": {
    "nbgrader": {
     "grade": true,
     "grade_id": "cell-44a8896bf93ef803",
     "locked": true,
     "points": 10,
     "schema_version": 3,
     "solution": false,
     "task": false
    }
   },
   "outputs": [],
   "source": [
    "#Please leave this cell blank."
   ]
  },
  {
   "cell_type": "markdown",
   "metadata": {
    "nbgrader": {
     "grade": false,
     "grade_id": "cell-ce03aa2a82480452",
     "locked": true,
     "schema_version": 3,
     "solution": false,
     "task": false
    }
   },
   "source": [
    "<div class=\"alert alert-warning\">\n",
    "<b>QUESTION 9:</b>\n",
    "    <p>Write a function named <code><b>str2dict</b></code> that takes a string as an argument and checks if the character within the string is upper case and <b>returns</b> a dictionary with the upper case character as a key and the index of the character as the value.</p>\n",
    "    <br>\n",
    "    <p>Execute <code><b>str2dict(\"University College London\")</b></code>, the expected output is <code>{'U': 0, 'C': 11, 'L': 19}</code>.</p>\n",
    "</div>"
   ]
  },
  {
   "cell_type": "code",
   "execution_count": null,
   "metadata": {
    "nbgrader": {
     "grade": false,
     "grade_id": "cell-ee49baa245a47441",
     "locked": false,
     "schema_version": 3,
     "solution": true,
     "task": false
    }
   },
   "outputs": [],
   "source": [
    "###ANSWER(9)\n",
    "# Please write your code here.\n",
    "def str2dict(string):\n",
    "    upper_dict = {}\n",
    "    for i in string:\n",
    "        if i.isupper():\n",
    "            upper_dict.update({i : string.index(i)})\n",
    "    return upper_dict"
   ]
  },
  {
   "cell_type": "code",
   "execution_count": null,
   "metadata": {
    "nbgrader": {
     "grade": true,
     "grade_id": "cell-796e03ade7fbe14b",
     "locked": true,
     "points": 10,
     "schema_version": 3,
     "solution": false,
     "task": false
    }
   },
   "outputs": [],
   "source": [
    "#Please leave this cell blank."
   ]
  },
  {
   "cell_type": "markdown",
   "metadata": {
    "nbgrader": {
     "grade": false,
     "grade_id": "cell-20d1d3be2b1c1693",
     "locked": true,
     "schema_version": 3,
     "solution": false,
     "task": false
    }
   },
   "source": [
    "<div class=\"alert alert-warning\">\n",
    "<b>QUESTION 10: </b> \n",
    "<p>For any listed company, Stock prices for <i>i</i> days are recorded in a list which has <i>i</i> elements. For example, the k-th item in the price list is the price of the given stock on the k-th day.</p> \n",
    "<br>\n",
    "    <p>Define a function called <code><b>max_profit</b></code> which takes a list of stock prices as the argument. The function would <b>return</b> the maximum profit (per share) you can get when buying and selling the stock <b>ONCE</b> in those days. Please note:</p>     \n",
    "<p>- You can only sell the stock after you've bought it.</p>\n",
    "<p>- You can buy and sell the stock in the same day but the profit would be 0.</p>\n",
    "<br>\n",
    "    <p>Execute <code><b>max_profit([7, 8, 12, 6, 9, 13, 15, 10, 17])</b></code>, the expected output is <code>11</code>. You can get the maximum profit when buying at price 6 and selling at price 17.</p>\n",
    "    <p>Execute <code><b>max_profit([14, 20, 19, 14, 15, 18, 14, 14, 13, 8])</b></code>, the expected output is <code>6</code>. You can get the maximum profit when buying at price 14 and selling at price 20.</p>\n",
    "</div>"
   ]
  },
  {
   "cell_type": "code",
   "execution_count": null,
   "metadata": {
    "nbgrader": {
     "grade": false,
     "grade_id": "cell-73b9e7dab46bf048",
     "locked": false,
     "schema_version": 3,
     "solution": true,
     "task": false
    }
   },
   "outputs": [],
   "source": [
    "###ANSWER(10)\n",
    "# Please write your code here.\n",
    "def max_profit(price_list):\n",
    "    max_profit = 0\n",
    "    for buy_idx in range(len(price_list)-1):\n",
    "        profit = max(price_list[buy_idx:]) - price_list[buy_idx]\n",
    "        if profit > max_profit:\n",
    "            max_profit = profit\n",
    "    return max_profit"
   ]
  },
  {
   "cell_type": "code",
   "execution_count": null,
   "metadata": {
    "nbgrader": {
     "grade": true,
     "grade_id": "cell-6163faa5ff5575be",
     "locked": true,
     "points": 10,
     "schema_version": 3,
     "solution": false,
     "task": false
    }
   },
   "outputs": [],
   "source": [
    "#Please leave this cell blank."
   ]
  }
 ],
 "metadata": {
  "kernelspec": {
   "display_name": "Python 3 (ipykernel)",
   "language": "python",
   "name": "python3"
  },
  "language_info": {
   "codemirror_mode": {
    "name": "ipython",
    "version": 3
   },
   "file_extension": ".py",
   "mimetype": "text/x-python",
   "name": "python",
   "nbconvert_exporter": "python",
   "pygments_lexer": "ipython3",
   "version": "3.9.7"
  }
 },
 "nbformat": 4,
 "nbformat_minor": 4
}
