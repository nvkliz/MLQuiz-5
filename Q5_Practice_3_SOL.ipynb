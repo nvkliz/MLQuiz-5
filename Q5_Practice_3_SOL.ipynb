{
 "cells": [
  {
   "cell_type": "markdown",
   "metadata": {
    "nbgrader": {
     "grade": false,
     "grade_id": "cell-8f753fb477124825",
     "locked": true,
     "schema_version": 3,
     "solution": false,
     "task": false
    }
   },
   "source": [
    "<div class=\"image\">\n",
    "\n",
    "  <img style=\"float: right;\" src=\"https://dx5i3n065oxey.cloudfront.net/platform/4186/assets/logo.png?v=2e76f927-9482-4bfb-9092-d9a0b595cd2c\" width=\"45%\" align=\"right\">\n",
    "      <h4>\n",
    "          <p style=\"font-size:20pt\">Programming for Business Analytics</p>\n",
    "          <p style=\"font-size:15pt\">Q5 Practice 3</p>\n",
    "      </h4>\n",
    "</div>\n",
    "\n",
    "- Make sure you have executed the code in the cell below.\n",
    "- Make sure you read the questions carefully and follow the instructions.\n",
    "- Make sure you put the answers in the Answer cells.\n",
    "- Please do not put your answers in comments (after #).\n",
    "- Please do not add any new cells between the Question and Answer cells.\n",
    "- Please do not change the names of the variables in Answer cells.\n",
    "- Please do not assign the expected result directly to the variable."
   ]
  },
  {
   "cell_type": "code",
   "execution_count": null,
   "metadata": {
    "nbgrader": {
     "grade": false,
     "grade_id": "cell-1caa724cde882d33",
     "locked": true,
     "schema_version": 3,
     "solution": false,
     "task": false
    }
   },
   "outputs": [],
   "source": [
    "#Please make sure your Jupyter Notebook environment is running a Python 3 kernel \n",
    "import IPython\n",
    "assert IPython.version_info[0] >= 3, \"Your version of IPython is too old, please update it.\"\n",
    "%autosave 120"
   ]
  },
  {
   "cell_type": "markdown",
   "metadata": {
    "nbgrader": {
     "grade": false,
     "grade_id": "cell-1ad54529b2804357",
     "locked": true,
     "schema_version": 3,
     "solution": false,
     "task": false
    }
   },
   "source": [
    "<div class=\"alert alert-warning\"> \n",
    "<b>QUESTION 1:</b> \n",
    "<p>Which one of the following functions is <b>NOT</b> a built-in function in python??</p>\n",
    "<p>a) <code><b>count()</b></code></p>\n",
    "<p>b) <code><b>print()</b></code></p>\n",
    "<p>c) <code><b>map()</b></code></p>\n",
    "<p>d) <code><b>enumerate()</b></code></p>\n",
    "    \n",
    "</div>"
   ]
  },
  {
   "cell_type": "code",
   "execution_count": null,
   "metadata": {
    "nbgrader": {
     "grade": false,
     "grade_id": "cell-80a2f4212fce3781",
     "locked": false,
     "schema_version": 3,
     "solution": true,
     "task": false
    }
   },
   "outputs": [],
   "source": [
    "###ANSWER(1). Please assign the letter representing the correct answer to the variable \n",
    "### (write it down between the \"\")\n",
    "answer_1 = \"a\" # YOUR CODE SHOULD BE BETWEEN \"\""
   ]
  },
  {
   "cell_type": "code",
   "execution_count": null,
   "metadata": {
    "nbgrader": {
     "grade": true,
     "grade_id": "cell-835ced5bccf7799e",
     "locked": true,
     "points": 10,
     "schema_version": 3,
     "solution": false,
     "task": false
    }
   },
   "outputs": [],
   "source": [
    "#Please leave this cell blank."
   ]
  },
  {
   "cell_type": "markdown",
   "metadata": {
    "nbgrader": {
     "grade": false,
     "grade_id": "cell-aada8bc67a36bd6f",
     "locked": true,
     "schema_version": 3,
     "solution": false,
     "task": false
    }
   },
   "source": [
    "<div class=\"alert alert-warning\"> \n",
    "<b>QUESTION 2:</b>\n",
    "<p>Write <b>ONE LINE</b> of code to define a string named <code>dialogue</code>. Print <code>dialogue</code>, the expected output is shown below. Make sure the printout is <b>Identical</b>.</p>\n",
    "\n",
    "```\n",
    "Sam: Where's the video file?\n",
    "\n",
    "Sally: I saved it in C:\\User\\asset\\.video folder.\n",
    "    \n",
    "Sam: Is it named \"welcome.mp4\"?\n",
    "```\n",
    "\n",
    "</div>"
   ]
  },
  {
   "cell_type": "code",
   "execution_count": null,
   "metadata": {
    "nbgrader": {
     "grade": false,
     "grade_id": "cell-75304455a1925d44",
     "locked": false,
     "schema_version": 3,
     "solution": true,
     "task": false
    }
   },
   "outputs": [],
   "source": [
    "###ANSWER(2)\n",
    "dialogue = 'Sam: Where\\'s the video file?\\n\\nSally: I saved it in C:\\\\User\\\\asset\\\\.video folder.\\n\\nSam: Is it named \\\"welcome.mp4\\\"?'\n",
    "print(dialogue)"
   ]
  },
  {
   "cell_type": "code",
   "execution_count": null,
   "metadata": {
    "nbgrader": {
     "grade": true,
     "grade_id": "cell-a098b5b94b8c3138",
     "locked": true,
     "points": 10,
     "schema_version": 3,
     "solution": false,
     "task": false
    }
   },
   "outputs": [],
   "source": [
    "#Please leave this cell blank."
   ]
  },
  {
   "cell_type": "markdown",
   "metadata": {
    "nbgrader": {
     "grade": false,
     "grade_id": "cell-98843bd7c0abf400",
     "locked": true,
     "schema_version": 3,
     "solution": false,
     "task": false
    }
   },
   "source": [
    "<div class=\"alert alert-warning\"> \n",
    "<b>QUESTION 3:</b> \n",
    "<p>Create a function called <code>key_checker</code> that takes a dictionary and a key as the arguments. If the key already exists in the dictionary, the function prints <code>The key exists in the dictionary.</code>. Otherwise, the function prints <code>The key does not exist in the dictionary.</code>.</p>\n",
    "<br>\n",
    "<p>Execute <code><b>key_checker({\"apple\": 70, \"banana\": 120, \"melon\": 45, \"kiwi\": 178, \"plum\": 99}, \"apple\")</b></code>, the expected output is <code>The key exists in the dictionary.</code>.</p>\n",
    "<p>Execute <code><b>key_checker({\"apple\": 70, \"banana\": 120, \"melon\": 45, \"kiwi\": 178, \"plum\": 99}, \"pear\")</b></code>, the expected output is <code>The key does not exist in the dictionary.</code>.</p>\n",
    "</div>"
   ]
  },
  {
   "cell_type": "code",
   "execution_count": null,
   "metadata": {
    "nbgrader": {
     "grade": false,
     "grade_id": "cell-fc65c2d9c992e18b",
     "locked": false,
     "schema_version": 3,
     "solution": true,
     "task": false
    }
   },
   "outputs": [],
   "source": [
    "###ANSWER(3)\n",
    "# Write your code here.\n",
    "def key_checker(dictionary, key):\n",
    "    if key in dictionary:\n",
    "        print('The key exists in the dictionary.')\n",
    "    else:\n",
    "        print('The key does not exist in the dictionary.')"
   ]
  },
  {
   "cell_type": "code",
   "execution_count": null,
   "metadata": {
    "nbgrader": {
     "grade": true,
     "grade_id": "cell-d0b4b4331fc9729a",
     "locked": true,
     "points": 10,
     "schema_version": 3,
     "solution": false,
     "task": false
    }
   },
   "outputs": [],
   "source": [
    "#Please leave this cell blank."
   ]
  },
  {
   "cell_type": "markdown",
   "metadata": {
    "nbgrader": {
     "grade": false,
     "grade_id": "cell-ce03aa2a82480452",
     "locked": true,
     "schema_version": 3,
     "solution": false,
     "task": false
    }
   },
   "source": [
    "<div class=\"alert alert-warning\"> \n",
    "<b>QUESTION 4:</b> \n",
    "<p>Create a function called <code><b>max_num_idx</b></code> which takes a list of numbers as the argument. The function returns the index of the largest number in the input list.</p>\n",
    "<br>  \n",
    "<p>Execute <code>max_num_idx([1, 3, 6, 9, 13, 14])</code>, the expected output is <code>5</code>.</p>\n",
    "<p>Execute <code>max_num_idx([4, 22, 8, 20, 24, 12, 30, 98, 28, 48])</code>, the expected output is <code>7</code>.</p>   \n",
    "</div>"
   ]
  },
  {
   "cell_type": "code",
   "execution_count": null,
   "metadata": {
    "nbgrader": {
     "grade": false,
     "grade_id": "cell-ee49baa245a47441",
     "locked": false,
     "schema_version": 3,
     "solution": true,
     "task": false
    }
   },
   "outputs": [],
   "source": [
    "###ANSWER(4).\n",
    "# Write your code here.\n",
    "def max_num_idx(lst):\n",
    "    return lst.index(max(lst))"
   ]
  },
  {
   "cell_type": "code",
   "execution_count": null,
   "metadata": {
    "nbgrader": {
     "grade": true,
     "grade_id": "cell-796e03ade7fbe14b",
     "locked": true,
     "points": 10,
     "schema_version": 3,
     "solution": false,
     "task": false
    }
   },
   "outputs": [],
   "source": [
    "#Please leave this cell blank."
   ]
  },
  {
   "cell_type": "markdown",
   "metadata": {
    "nbgrader": {
     "grade": false,
     "grade_id": "cell-b40001da61c03623",
     "locked": true,
     "schema_version": 3,
     "solution": false,
     "task": false
    }
   },
   "source": [
    "<div class=\"alert alert-warning\"> \n",
    "<b>QUESTION 5:</b> \n",
    "<p> Two lists have been defined.</p>\n",
    " \n",
    "```python\n",
    "alphabet_lst = [\"l\", \"m\", [\"n\", [\"o\", \"p\", [], [\"t\", \"u\"], \"v\"], \"w\"], \"x\", \"y\", \"z\"]\n",
    "alphabet_sub_lst = [\"q\", \"r\", \"s\"]\n",
    "```\n",
    "\n",
    "<p>Write <b>ONE LINE</b> of code to extend the empty sublist in <code>alphabet_lst</code> by the list <code>alphabet_sub_lst</code>. Print <code>alphabet_lst</code>, the expected output is shown below.</p>\n",
    "\n",
    "```\n",
    "['l', 'm', ['n', ['o', 'p', ['q', 'r', 's'], ['t', 'u'], 'v'], 'w'], 'x', 'y', 'z']\n",
    "```\n",
    "</div>"
   ]
  },
  {
   "cell_type": "code",
   "execution_count": 2,
   "metadata": {
    "nbgrader": {
     "grade": false,
     "grade_id": "cell-fbedf414f1b54709",
     "locked": false,
     "schema_version": 3,
     "solution": true,
     "task": false
    }
   },
   "outputs": [
    {
     "name": "stdout",
     "output_type": "stream",
     "text": [
      "['l', 'm', ['n', ['o', 'p', ['q', 'r', 's'], ['t', 'u'], 'v'], 'w'], 'x', 'y', 'z']\n"
     ]
    }
   ],
   "source": [
    "###ANSWER(5).\n",
    "alphabet_lst = [\"l\", \"m\", [\"n\", [\"o\", \"p\", [], [\"t\", \"u\"], \"v\"], \"w\"], \"x\", \"y\", \"z\"]\n",
    "alphabet_sub_lst = [\"q\", \"r\", \"s\"]\n",
    "alphabet_lst[2][1][2].extend(alphabet_sub_lst)\n",
    "print(alphabet_lst)"
   ]
  },
  {
   "cell_type": "code",
   "execution_count": null,
   "metadata": {
    "nbgrader": {
     "grade": true,
     "grade_id": "cell-458bae9d4b589c32",
     "locked": true,
     "points": 10,
     "schema_version": 3,
     "solution": false,
     "task": false
    }
   },
   "outputs": [],
   "source": [
    "#Please leave this cell blank."
   ]
  },
  {
   "cell_type": "markdown",
   "metadata": {
    "nbgrader": {
     "grade": false,
     "grade_id": "cell-886c58d8ef016fa5",
     "locked": true,
     "schema_version": 3,
     "solution": false,
     "task": false
    }
   },
   "source": [
    "<div class=\"alert alert-warning\"> \n",
    "<b>QUESTION 6:</b> \n",
    "<p> Two lists have been defined.</p>\n",
    "\n",
    "```python\n",
    "drink_1 = [\"chocolate\", \"latte\", \"green tea\", \"cappuccino\"]\n",
    "drink_2 = [\"cappuccino\", \"americano\", \"latte\", \"macchiato\", \"cold brew\", \"mocha\"]\n",
    "```\n",
    "\n",
    "<p>Write <b>ONE LINE</b> of code to create a list that contains elements in alphabetical order from <code>drink_1</code> and <code>drink_2</code> without any duplicates, assign the new list to <code>drink_all</code>. Print <code>drink_all</code>, the expected output is shown below.</p>\n",
    "\n",
    "```\n",
    "['americano', 'cappuccino', 'chocolate', 'cold brew', 'green tea', 'latte', 'macchiato', 'mocha']\n",
    "```\n",
    "</div>"
   ]
  },
  {
   "cell_type": "code",
   "execution_count": 1,
   "metadata": {
    "nbgrader": {
     "grade": false,
     "grade_id": "cell-a93421f18c19f199",
     "locked": false,
     "schema_version": 3,
     "solution": true,
     "task": false
    }
   },
   "outputs": [
    {
     "name": "stdout",
     "output_type": "stream",
     "text": [
      "['americano', 'cappuccino', 'chocolate', 'cold brew', 'green tea', 'latte', 'macchiato', 'mocha']\n"
     ]
    }
   ],
   "source": [
    "###ANSWER(6).\n",
    "drink_1 = [\"chocolate\", \"latte\", \"green tea\", \"cappuccino\"]\n",
    "drink_2 = [\"cappuccino\", \"americano\", \"latte\", \"macchiato\", \"cold brew\", \"mocha\"]\n",
    "# Write your code here\n",
    "drink_all = sorted(list(set(drink_2)|set(drink_1)))\n",
    "print(drink_all)"
   ]
  },
  {
   "cell_type": "code",
   "execution_count": null,
   "metadata": {
    "nbgrader": {
     "grade": true,
     "grade_id": "cell-3378c131f260174d",
     "locked": true,
     "points": 10,
     "schema_version": 3,
     "solution": false,
     "task": false
    }
   },
   "outputs": [],
   "source": [
    "#Please leave this cell blank."
   ]
  },
  {
   "cell_type": "markdown",
   "metadata": {
    "nbgrader": {
     "grade": false,
     "grade_id": "cell-92390d6703f5d568",
     "locked": true,
     "schema_version": 3,
     "solution": false,
     "task": false
    }
   },
   "source": [
    "<div class=\"alert alert-warning\">\n",
    "<b>QUESTION 7: </b> \n",
    "<p> Tina and Peter are going to host a party. They sent out invitations separately and get responses from their friends about the number of guests each friend will bring. The responses are recorded in two dictionaries.</p>\n",
    "\n",
    "```python\n",
    "Peter_guests = {\"Chris\":3, \"David\":1, \"Rose\":3, \"Charlotte\":2, \"Terry\":1, \"Robert\":4, \"Judy\":7}\n",
    "Tina_guests = {\"David\":4, \"Nancy\":1, \"Robert\":2, \"Adam\":4, \"Judy\": 1, \"Jessy\":3, \"Chris\":5}\n",
    "```   \n",
    "\n",
    "<p>The information that Tina got was more accurate. Write code to combine the 2 dictionaries into one called <code>guests</code>, for keys that appear in both dictionaries, take the value from <code>Tina_guests</code>. Sort the keys of <code>guests</code> in alphabetical order. Print <code>guests</code>, the expected output is shown below.</p>\n",
    "\n",
    "```\n",
    "{'Adam': 4, 'Charlotte': 2, 'Chris': 5, 'David': 4, 'Jessy': 3, 'Judy': 1, 'Nancy': 1, 'Robert': 2, 'Rose': 3, 'Terry': 1}\n",
    "```\n",
    "    \n",
    "</div>"
   ]
  },
  {
   "cell_type": "code",
   "execution_count": null,
   "metadata": {
    "nbgrader": {
     "grade": false,
     "grade_id": "cell-7e4015568b0a31f9",
     "locked": false,
     "schema_version": 3,
     "solution": true,
     "task": false
    }
   },
   "outputs": [],
   "source": [
    "###ANSWER (7). \n",
    "Peter_guests = {\"Chris\":3, \"David\":1, \"Rose\":3, \"Charlotte\":2, \"Terry\":1, \"Robert\":4, \"Judy\":7}\n",
    "Tina_guests = {\"David\":4, \"Nancy\":1, \"Robert\":2, \"Adam\":4, \"Judy\": 1, \"Jessy\":3, \"Chris\":5}\n",
    "# Write your code here.\n",
    "guests = {}\n",
    "for key in sorted(list(Peter_guests.keys()|Tina_guests.keys())):\n",
    "    if key in Tina_guests:\n",
    "        guests[key] = Tina_guests[key]\n",
    "    else:\n",
    "        guests[key] = Peter_guests[key]\n",
    "print(guests)"
   ]
  },
  {
   "cell_type": "code",
   "execution_count": null,
   "metadata": {
    "nbgrader": {
     "grade": true,
     "grade_id": "cell-f0b3dc82503af981",
     "locked": true,
     "points": 10,
     "schema_version": 3,
     "solution": false,
     "task": false
    }
   },
   "outputs": [],
   "source": [
    "#Please leave this cell blank."
   ]
  },
  {
   "cell_type": "markdown",
   "metadata": {
    "nbgrader": {
     "grade": false,
     "grade_id": "cell-c8fd49e4f0dbffbc",
     "locked": true,
     "schema_version": 3,
     "solution": false,
     "task": false
    }
   },
   "source": [
    "<div class=\"alert alert-warning\">\n",
    "<b>QUESTION 8: </b> \n",
    "<p>Create a function<code><b>check_upper_lower</b></code> which takes a string as the argument. The function returns a dictionary where the keys are <code>'Upper_Case'</code> and <code>'Lower_Case'</code>, the values are the number of upper case letters and lower case letters in the string respectively.</p>\n",
    "<br>\n",
    "<p>Execute <code>check_upper_lower('UCL Business Analytics')</code>, the expected output is <code>{'Upper_Case': 5, 'Lower_Case': 15}</code>.</p>\n",
    "</div>"
   ]
  },
  {
   "cell_type": "code",
   "execution_count": null,
   "metadata": {
    "nbgrader": {
     "grade": false,
     "grade_id": "cell-3fdc0102cbf9d5f7",
     "locked": false,
     "schema_version": 3,
     "solution": true,
     "task": false
    }
   },
   "outputs": [],
   "source": [
    "###ANSWER(8). \n",
    "# Write your code here.\n",
    "def check_upper_lower(string):\n",
    "    output_dict={\"Upper_Case\":0, \"Lower_Case\":0}\n",
    "    for x in string:\n",
    "        if x.isupper():\n",
    "            output_dict[\"Upper_Case\"]+=1\n",
    "        elif x.islower():\n",
    "            output_dict[\"Lower_Case\"]+=1\n",
    "        else:\n",
    "            continue\n",
    "    return output_dict"
   ]
  },
  {
   "cell_type": "code",
   "execution_count": null,
   "metadata": {
    "nbgrader": {
     "grade": true,
     "grade_id": "cell-44a8896bf93ef803",
     "locked": true,
     "points": 10,
     "schema_version": 3,
     "solution": false,
     "task": false
    }
   },
   "outputs": [],
   "source": [
    "#Please leave this cell blank."
   ]
  },
  {
   "cell_type": "markdown",
   "metadata": {
    "nbgrader": {
     "grade": false,
     "grade_id": "cell-f12a35c8e63787f7",
     "locked": true,
     "schema_version": 3,
     "solution": false,
     "task": false
    }
   },
   "source": [
    "<div class=\"alert alert-warning\"> \n",
    "<b>QUESTION 9:</b>\n",
    "<p> Two dictionaries <code>expense_2021</code> and <code>expense_2022</code> have been defined.</p>\n",
    "    \n",
    "```python\n",
    "expense_2021 = {\"food\": 20, \"transport\": 30, \"entertainment\": 20, \"travel\": 15, \"study\": 15}\n",
    "expense_2022 = {\"food\": 25, \"transport\": 5, \"donation\": 10, \"entertainment\": 10, \"saving\": 30, \"medical\": 15, \"sports\": 5}    \n",
    "```\n",
    "\n",
    "<p>Write <b>ONE</b> line of code to combine the two dictionaries. For keys that exist in both dictionaries, the corresponding values should be summed up. Sort the keys of the new dictionary in alphabetical order. Assign the result to variable <code>total_expenses</code>. Print <code>total_expenses</code>, the expected output is shown below.</p>\n",
    "\n",
    "```\n",
    "{'donation': 10, 'entertainment': 30, 'food': 45, 'medical': 15, 'saving': 30, 'sports': 5, 'study': 15, 'transport': 35, 'travel': 15}\n",
    "```\n",
    "    \n",
    "<p>Do not use <code>COUNTER</code> module.</p>\n",
    "</div>"
   ]
  },
  {
   "cell_type": "code",
   "execution_count": null,
   "metadata": {
    "nbgrader": {
     "grade": false,
     "grade_id": "cell-5d9a5ebd9c5d23e0",
     "locked": false,
     "schema_version": 3,
     "solution": true,
     "task": false
    }
   },
   "outputs": [],
   "source": [
    "###ANSWER(9).\n",
    "expense_2021 = {\"food\": 20, \"transport\": 30, \"entertainment\": 20, \"travel\": 15, \"study\": 15}\n",
    "expense_2022 = {\"food\": 25, \"transport\": 5, \"donation\": 10, \"entertainment\": 10, \"saving\": 30, \"medical\": 15, \"sports\": 5} \n",
    "# Write your code here\n",
    "total_expenses = dict(sorted({i:(expense_2021.get(i,0) + expense_2022.get(i,0)) for i in set(expense_2021)|set(expense_2022)}.items()))\n",
    "print(total_expenses)"
   ]
  },
  {
   "cell_type": "code",
   "execution_count": null,
   "metadata": {
    "nbgrader": {
     "grade": true,
     "grade_id": "cell-5904cbe2279e80f0",
     "locked": true,
     "points": 10,
     "schema_version": 3,
     "solution": false,
     "task": false
    }
   },
   "outputs": [],
   "source": [
    "#Please leave this cell blank."
   ]
  },
  {
   "cell_type": "markdown",
   "metadata": {
    "nbgrader": {
     "grade": false,
     "grade_id": "cell-20d1d3be2b1c1693",
     "locked": true,
     "schema_version": 3,
     "solution": false,
     "task": false
    }
   },
   "source": [
    "<div class=\"alert alert-warning\"> \n",
    "<b>QUESTION 10:</b> \n",
    "<p>Create a function called <code><b>sum_top3_neg</b></code> that takes a list of numbers as the argument. It returns the sum of the 3 greatest negative numbers in the list. If there are fewer than 3 negative numbers in the list, the function returns the sum of all the negative numbers. If all numbers in the list are non-negative, the function returns the number <code>0</code>.</p>\n",
    "<br>\n",
    "<p>Execute <code><b>sum_top3_neg([-60, 50, -10, 70, -20, -30])</b></code>, the expected output is <code>-60</code>.</p>\n",
    "<p>Execute <code><b>sum_top3_neg([-1, 2, 3, -40, 5, -6, 7])</b></code>, the expected output is <code>-47</code>.</p>\n",
    "<p>Execute <code><b>sum_top3_neg([-1, -2, 3])</b></code>, the expected output is <code>-3</code>.</p>\n",
    "<p>Execute <code><b>sum_top3_neg([1, 2, 3])</b></code>, the expected output is <code>0</code>.</p>    \n",
    "</div>"
   ]
  },
  {
   "cell_type": "code",
   "execution_count": null,
   "metadata": {
    "nbgrader": {
     "grade": false,
     "grade_id": "cell-73b9e7dab46bf048",
     "locked": false,
     "schema_version": 3,
     "solution": true,
     "task": false
    }
   },
   "outputs": [],
   "source": [
    "###ANSWER(10).\n",
    "# Write your code here\n",
    "def sum_top3_neg(lst):\n",
    "    return sum(sorted([i for i in lst if i<0])[-3:])"
   ]
  },
  {
   "cell_type": "code",
   "execution_count": null,
   "metadata": {
    "nbgrader": {
     "grade": true,
     "grade_id": "cell-6163faa5ff5575be",
     "locked": true,
     "points": 10,
     "schema_version": 3,
     "solution": false,
     "task": false
    }
   },
   "outputs": [],
   "source": [
    "#Please leave this cell blank."
   ]
  }
 ],
 "metadata": {
  "kernelspec": {
   "display_name": "Python 3 (ipykernel)",
   "language": "python",
   "name": "python3"
  },
  "language_info": {
   "codemirror_mode": {
    "name": "ipython",
    "version": 3
   },
   "file_extension": ".py",
   "mimetype": "text/x-python",
   "name": "python",
   "nbconvert_exporter": "python",
   "pygments_lexer": "ipython3",
   "version": "3.9.7"
  }
 },
 "nbformat": 4,
 "nbformat_minor": 4
}
