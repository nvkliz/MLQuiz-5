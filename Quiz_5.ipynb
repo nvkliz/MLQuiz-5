{
 "cells": [
  {
   "cell_type": "markdown",
   "metadata": {
    "deletable": false,
    "editable": false,
    "nbgrader": {
     "cell_type": "markdown",
     "checksum": "70c85396f964593f3355160f2840fd64",
     "grade": false,
     "grade_id": "cell-cd2f73cd1ff841d9",
     "locked": true,
     "schema_version": 3,
     "solution": false,
     "task": false
    }
   },
   "source": [
    "<div class=\"image\">\n",
    "\n",
    "  <img style=\"float: right;\" src=\"https://dx5i3n065oxey.cloudfront.net/platform/4186/assets/logo.png?v=2e76f927-9482-4bfb-9092-d9a0b595cd2c\" width=\"45%\" align=\"right\">\n",
    "      <h4>\n",
    "          <p style=\"font-size:20pt\">Programming for Business Analytics</p>\n",
    "          <p style=\"font-size:15pt\">Quiz 5</p>\n",
    "      </h4>\n",
    "</div>\n",
    "\n",
    "- Make sure you have executed the code in the cell below.\n",
    "- Make sure you read the questions carefully and follow the instructions.\n",
    "- Make sure you put the answers in the Answer cells.\n",
    "- Please do not put your answers in comments (after #).\n",
    "- Please do not add any new cells between the Question and Answer cells.\n",
    "- Please do not change the names of the variables in Answer cells.\n",
    "- Please do not assign the expected result directly to the variable.\n",
    "- Please do not change the pre-defined variables."
   ]
  },
  {
   "cell_type": "code",
   "execution_count": null,
   "metadata": {
    "deletable": false,
    "editable": false,
    "nbgrader": {
     "cell_type": "code",
     "checksum": "80a1f16e3550f17b8951117f5dc1d4ef",
     "grade": false,
     "grade_id": "cell-a6a181ba8de5cd7a",
     "locked": true,
     "schema_version": 3,
     "solution": false,
     "task": false
    }
   },
   "outputs": [],
   "source": [
    "#Please make sure your Jupyter Notebook environment is running a Python 3 kernel \n",
    "import IPython\n",
    "assert IPython.version_info[0] >= 3, \"Your version of IPython is too old, please update it.\"\n",
    "%autosave 120"
   ]
  },
  {
   "cell_type": "markdown",
   "metadata": {
    "deletable": false,
    "editable": false,
    "nbgrader": {
     "cell_type": "markdown",
     "checksum": "75eda0419ee4353400564cd47c6752ae",
     "grade": false,
     "grade_id": "cell-0c6eb65a747eeb93",
     "locked": true,
     "schema_version": 3,
     "solution": false,
     "task": false
    }
   },
   "source": [
    "<div class=\"alert alert-warning\"> \n",
    "<b>QUESTION 1:</b>\n",
    "<p>Which one of the following data types is <b>Immutable</b>:</p>\n",
    "<p> a) tuple </p>\n",
    "<p> b) dictionary</p>\n",
    "<p> c) list</p>\n",
    "<p> d) set</p>\n",
    "</div>"
   ]
  },
  {
   "cell_type": "code",
   "execution_count": null,
   "metadata": {
    "deletable": false,
    "nbgrader": {
     "cell_type": "code",
     "checksum": "f8ab3b92b2abec95caa5be83ee54776c",
     "grade": false,
     "grade_id": "cell-ec021328bb3d68ac",
     "locked": false,
     "schema_version": 3,
     "solution": true,
     "task": false
    }
   },
   "outputs": [],
   "source": [
    "###ANSWER(1). Please assign the letter representing the correct answer to the variable \n",
    "### (write it down between the \"\")\n",
    "answer_1 = \"a\"  # YOUR ANSWER SHOULD BE BETWEEN \"\""
   ]
  },
  {
   "cell_type": "code",
   "execution_count": null,
   "metadata": {
    "deletable": false,
    "editable": false,
    "nbgrader": {
     "cell_type": "code",
     "checksum": "718175e31f2e64c1fba772ebf61f9334",
     "grade": true,
     "grade_id": "cell-3c1562cf1ca55759",
     "locked": true,
     "points": 10,
     "schema_version": 3,
     "solution": false,
     "task": false
    }
   },
   "outputs": [],
   "source": [
    "#Please leave this cell blank."
   ]
  },
  {
   "cell_type": "markdown",
   "metadata": {
    "deletable": false,
    "editable": false,
    "nbgrader": {
     "cell_type": "markdown",
     "checksum": "3b78dc805341e3cf1c50218179c2070d",
     "grade": false,
     "grade_id": "cell-5770d2f62dbb2749",
     "locked": true,
     "schema_version": 3,
     "solution": false,
     "task": false
    }
   },
   "source": [
    "<div class=\"alert alert-warning\"> \n",
    "<b>QUESTION 2:</b>\n",
    "<p>What does the <code>for loop</code> in the code below iterate through?</p>\n",
    "    \n",
    "```python\n",
    "x = dict()\n",
    "...\n",
    "for y in x :\n",
    "    ...\n",
    "```\n",
    "\n",
    "<p> a) It loops through the integers from 0 to the length of the dictionary.</p>     \n",
    "<p> b) It loops through all of the items in the dictionary</p>\n",
    "<p> c) It loops through the values in the dictionary</p>\n",
    "<p> d) It loops through the keys in the dictionary</p>\n",
    "</div>"
   ]
  },
  {
   "cell_type": "code",
   "execution_count": null,
   "metadata": {
    "deletable": false,
    "nbgrader": {
     "cell_type": "code",
     "checksum": "b7bf3f057f86f0c491bf2289b632681d",
     "grade": false,
     "grade_id": "cell-b1c816b2165a3f8f",
     "locked": false,
     "schema_version": 3,
     "solution": true,
     "task": false
    }
   },
   "outputs": [],
   "source": [
    "###ANSWER(2). Please assign the letter representing the correct answer to the variable \n",
    "### (write it down between the \"\")\n",
    "answer_2 = \"b\"  # YOUR ANSWER SHOULD BE BETWEEN \"\""
   ]
  },
  {
   "cell_type": "code",
   "execution_count": null,
   "metadata": {
    "deletable": false,
    "editable": false,
    "nbgrader": {
     "cell_type": "code",
     "checksum": "599bcbda91aa8b9f71d101bf319bcd88",
     "grade": true,
     "grade_id": "cell-07e456abf7e78a96",
     "locked": true,
     "points": 10,
     "schema_version": 3,
     "solution": false,
     "task": false
    }
   },
   "outputs": [],
   "source": [
    "#Please leave this cell blank."
   ]
  },
  {
   "cell_type": "markdown",
   "metadata": {
    "deletable": false,
    "editable": false,
    "nbgrader": {
     "cell_type": "markdown",
     "checksum": "85d526ac11c1513efe5bcc3adcc8e3a0",
     "grade": false,
     "grade_id": "cell-66179c194185b165",
     "locked": true,
     "schema_version": 3,
     "solution": false,
     "task": false
    }
   },
   "source": [
    "<div class=\"alert alert-warning\">\n",
    "<b>QUESTION 3:</b>\n",
    "<p>A list of numbers has been defined.</p>\n",
    "\n",
    "```python\n",
    "num_list = [-1, 2, 3, 4, -5, -6, 7, 8, -9, 10]\n",
    "```  \n",
    "<p>Write <b>ONE LINE</b> of code to convert the negative numbers to their absolute values. Print <code>num_list</code>, the expected output is shown below.</p>\n",
    "    \n",
    "```\n",
    "[1, 2, 3, 4, 5, 6, 7, 8, 9, 10]\n",
    "```\n",
    "</div>"
   ]
  },
  {
   "cell_type": "code",
   "execution_count": 5,
   "metadata": {
    "deletable": false,
    "nbgrader": {
     "cell_type": "code",
     "checksum": "b05cd8b475c5b1487038fae3d93586f8",
     "grade": false,
     "grade_id": "cell-ac42ee6a42ad74ba",
     "locked": false,
     "schema_version": 3,
     "solution": true,
     "task": false
    }
   },
   "outputs": [
    {
     "name": "stdout",
     "output_type": "stream",
     "text": [
      "[1, 2, 3, 4, 5, 6, 7, 8, 9, 10]\n"
     ]
    }
   ],
   "source": [
    "###ANSWER(3).\n",
    "num_list = [-1, 2, 3, 4, -5, -6, 7, 8, -9, 10]\n",
    "num_list = num_list = [abs(i) for i in num_list]  # Write your code here\n",
    "print(num_list)"
   ]
  },
  {
   "cell_type": "code",
   "execution_count": null,
   "metadata": {
    "deletable": false,
    "editable": false,
    "nbgrader": {
     "cell_type": "code",
     "checksum": "67a7ae19c06a0acaa31793ab4ee69f04",
     "grade": true,
     "grade_id": "cell-69bc2a09e4bf797f",
     "locked": true,
     "points": 10,
     "schema_version": 3,
     "solution": false,
     "task": false
    }
   },
   "outputs": [],
   "source": [
    "#Please leave this cell blank."
   ]
  },
  {
   "cell_type": "markdown",
   "metadata": {
    "deletable": false,
    "editable": false,
    "nbgrader": {
     "cell_type": "markdown",
     "checksum": "8a5121839df10c4577984adec9c1d341",
     "grade": false,
     "grade_id": "cell-2ddc95ed2a896f62",
     "locked": true,
     "schema_version": 3,
     "solution": false,
     "task": false
    }
   },
   "source": [
    "<div class=\"alert alert-warning\"> \n",
    "<b>QUESTION 4:</b> \n",
    "<p> A list has been defined.</p>\n",
    "\n",
    "```python\n",
    "a_list = [[18, 12, 9], [21, 16, 15, 16], [9, 10, 12, 11, 13, 19]]\n",
    "```\n",
    "\n",
    "<p>Write code to calculate the product of the numbers (multiply all the numbers) in each sublist and assign the result to a list named <code>a_list_multiplication</code>. Print <code>a_list_multiplication</code>, the expected output is <code>[1944, 80640, 2934360]</code>.</p>\n",
    "</div>"
   ]
  },
  {
   "cell_type": "code",
   "execution_count": 31,
   "metadata": {
    "deletable": false,
    "nbgrader": {
     "cell_type": "code",
     "checksum": "d74df488e6036e3a631a88a510048a07",
     "grade": false,
     "grade_id": "cell-658300c1faadc714",
     "locked": false,
     "schema_version": 3,
     "solution": true,
     "task": false
    }
   },
   "outputs": [
    {
     "name": "stdout",
     "output_type": "stream",
     "text": [
      "[1944, 80640, 2934360]\n"
     ]
    }
   ],
   "source": [
    "###ANSWER(4).\n",
    "a_list = [[18, 12, 9], [21, 16, 15, 16], [9, 10, 12, 11, 13, 19]]\n",
    "# Write your code here\n",
    "a_list_multiply = []\n",
    "for e in a_list:\n",
    "    total = 1\n",
    "    for sublist in e:\n",
    "        total = total * sublist\n",
    "    a_list_multiply.append(total)\n",
    "        \n",
    "print(a_list_multiply)"
   ]
  },
  {
   "cell_type": "code",
   "execution_count": null,
   "metadata": {
    "deletable": false,
    "editable": false,
    "nbgrader": {
     "cell_type": "code",
     "checksum": "15c7973d37c9fdd73e044fe48cecdca5",
     "grade": true,
     "grade_id": "cell-85dab1ede9e8c49e",
     "locked": true,
     "points": 10,
     "schema_version": 3,
     "solution": false,
     "task": false
    }
   },
   "outputs": [],
   "source": [
    "#Please leave this cell blank."
   ]
  },
  {
   "cell_type": "markdown",
   "metadata": {
    "deletable": false,
    "editable": false,
    "nbgrader": {
     "cell_type": "markdown",
     "checksum": "a034dde6fb1aa2b8350a4ddc7f29348c",
     "grade": false,
     "grade_id": "cell-2a166be8b33af97c",
     "locked": true,
     "schema_version": 3,
     "solution": false,
     "task": false
    }
   },
   "source": [
    "<div class=\"alert alert-warning\"> \n",
    "<b>QUESTION 5:</b> \n",
    "<p>Create a function called <code><b>dict_key</b></code> that takes a dictionary and a value as the arguments. The function returns a <b>set</b> of keys from the dictionary for which the corresponding values are the same as the input value.</p>\n",
    "<br>\n",
    "<p>Execute <code><b>dict_key({\"a\":1, \"f\":2, \"d\":1, \"c\":1, \"b\":3}, 1)</b></code>, the expected output is <code>{'a', 'c', 'd'}</code>.</p>\n",
    "<p>Execute <code><b>dict_key({3:[1,3], (1,2):\"rs\", \"ucl\":[1,3], \"cur\":\"2k\", (10, 24):[1,3]}, [1,3])</b></code>, the expected output is <code>{(10, 24), 3, 'ucl'}</code>.</p>  \n",
    "</div>"
   ]
  },
  {
   "cell_type": "code",
   "execution_count": 6,
   "metadata": {
    "deletable": false,
    "nbgrader": {
     "cell_type": "code",
     "checksum": "1c3f5cb51e0a892c59ac4348e09d896f",
     "grade": false,
     "grade_id": "cell-5aea4d2fbb072c5a",
     "locked": false,
     "schema_version": 3,
     "solution": true,
     "task": false
    }
   },
   "outputs": [
    {
     "data": {
      "text/plain": [
       "{(10, 24), 3, 'ucl'}"
      ]
     },
     "execution_count": 6,
     "metadata": {},
     "output_type": "execute_result"
    }
   ],
   "source": [
    "###ANSWER(5).\n",
    "# Write your code here\n",
    "def dict_key(input_dict, value):\n",
    "    result = set()\n",
    "    for key, val in input_dict.items():\n",
    "        if val == value:\n",
    "            result.add(key)\n",
    "\n",
    "    return result\n",
    "\n",
    "dict_key({3:[1,3], (1,2):\"rs\", \"ucl\":[1,3], \"cur\":\"2k\", (10, 24):[1,3]}, [1,3])"
   ]
  },
  {
   "cell_type": "code",
   "execution_count": null,
   "metadata": {
    "deletable": false,
    "editable": false,
    "nbgrader": {
     "cell_type": "code",
     "checksum": "c477eca302bbc0acd8b6285f544993ab",
     "grade": true,
     "grade_id": "cell-93a25ed7fff14876",
     "locked": true,
     "points": 10,
     "schema_version": 3,
     "solution": false,
     "task": false
    }
   },
   "outputs": [],
   "source": [
    "#Please leave this cell blank."
   ]
  },
  {
   "cell_type": "markdown",
   "metadata": {
    "deletable": false,
    "editable": false,
    "nbgrader": {
     "cell_type": "markdown",
     "checksum": "130dfc12009325571d4de595ca2f0cc1",
     "grade": false,
     "grade_id": "cell-e111547f7cfafb71",
     "locked": true,
     "schema_version": 3,
     "solution": false,
     "task": false
    }
   },
   "source": [
    "<div class=\"alert alert-warning\"> \n",
    "<b>QUESTION 6:</b> \n",
    "<p>In a gymnastics competition, the scores given by judges are recorded in a dictionary (see an example below). </p>\n",
    "\n",
    "```python\n",
    "scores = {'Adam':8.8, 'Beth':7.5, 'Caroline':7.8, 'David':8.5, 'Eli':7.3}    \n",
    "```\n",
    "    \n",
    "<p>Create a function called <code><b>final_score</b></code> that takes the dictionary of scores as the argument. It calculates the average score after the highest and the lowest scores are excluded. The function rounds the average score to the first decimal place and returns the result.</p>\n",
    "<br>\n",
    "<p>Execute <code><b>final_score({'Adam':8.8, 'Beth':7.5, 'Caroline':7.8, 'David':8.5, 'Eli':7.3})</b></code>, the expected output is <code>7.9</code>.</p>\n",
    "<p>Execute <code><b>final_score({'Judge_1':8.3, 'Judge_2':9.2, 'Judge_3':7.6, 'Judge_4':9.1, 'Judge_5':8.8, 'Judge_6':7.9})</b></code>, the expected output is <code>8.5</code>.</p>  \n",
    "</div>"
   ]
  },
  {
   "cell_type": "code",
   "execution_count": 10,
   "metadata": {
    "deletable": false,
    "nbgrader": {
     "cell_type": "code",
     "checksum": "80e43ca039a50cc6f00be0ec0a9d340c",
     "grade": false,
     "grade_id": "cell-f624a50258ff4d44",
     "locked": false,
     "schema_version": 3,
     "solution": true,
     "task": false
    }
   },
   "outputs": [
    {
     "data": {
      "text/plain": [
       "7.9"
      ]
     },
     "execution_count": 10,
     "metadata": {},
     "output_type": "execute_result"
    }
   ],
   "source": [
    "###ANSWER(6).\n",
    "# Write your code here\n",
    "def final_score(students_scores: dict):\n",
    "    scores = [score for score in students_scores.values()]\n",
    "    scores.remove(max(scores))\n",
    "    scores.remove(min(scores))\n",
    "    return round(sum(scores) / len(scores), 1)\n",
    "\n",
    "final_score({'Adam':8.8, 'Beth':7.5, 'Caroline':7.8, 'David':8.5, 'Eli':7.3})\n"
   ]
  },
  {
   "cell_type": "code",
   "execution_count": null,
   "metadata": {
    "deletable": false,
    "editable": false,
    "nbgrader": {
     "cell_type": "code",
     "checksum": "069d2f8c9e073101dc2accaa4468ab1a",
     "grade": true,
     "grade_id": "cell-39143521b973f251",
     "locked": true,
     "points": 10,
     "schema_version": 3,
     "solution": false,
     "task": false
    }
   },
   "outputs": [],
   "source": [
    "#Please leave this cell blank."
   ]
  },
  {
   "cell_type": "markdown",
   "metadata": {
    "deletable": false,
    "editable": false,
    "nbgrader": {
     "cell_type": "markdown",
     "checksum": "100764bef6ac15568ae3a05552fa6548",
     "grade": false,
     "grade_id": "cell-ab355460e1890dc0",
     "locked": true,
     "schema_version": 3,
     "solution": false,
     "task": false
    }
   },
   "source": [
    "<div class=\"alert alert-warning\"> \n",
    "<b>QUESTION 7:</b> \n",
    "<p>A valid password needs to meet all the conditions below.</p>\n",
    "    \n",
    "```\n",
    "- 8 or more characters\n",
    "- At least 1 number\n",
    "- At least 1 uppercase and 1 lowercase letters\n",
    "- No blank spaces\n",
    "```    \n",
    "\n",
    "<p>Create a function <code>pw_validate</code> which takes a string as the argument. If the argument is a valid password, the function <b>prints</b> <code>The password is valid.</code>, otherwise the function <b>prints</b> <code>The password is invalid.</code>.</p>\n",
    "<br>\n",
    "<p>Execute <code>pw_validate(\"123456ab\")</code>, the expected output is <code>The password is invalid.</code>.</p>\n",
    "<p>Execute <code>pw_validate(\"123456  Ab\")</code>, the expected output is <code>The password is invalid.</code>.</p>\n",
    "<p>Execute <code>pw_validate(\"abcsae12 A b\")</code>, the expected output is <code>The password is invalid.</code>.</p>\n",
    "<p>Execute <code>pw_validate(\"123456Ab\")</code>, the expected output is <code>The password is valid.</code>.</p>\n",
    "</div>"
   ]
  },
  {
   "cell_type": "code",
   "execution_count": null,
   "metadata": {
    "deletable": false,
    "nbgrader": {
     "cell_type": "code",
     "checksum": "11bcb7ca66828de4f46291b84b8a87bd",
     "grade": false,
     "grade_id": "cell-1006e567e87eedd5",
     "locked": false,
     "schema_version": 3,
     "solution": true,
     "task": false
    }
   },
   "outputs": [],
   "source": [
    "###ANSWER(7).\n",
    "# Write your code here\n",
    "def pw_validate(string):\n",
    "    "
   ]
  },
  {
   "cell_type": "code",
   "execution_count": null,
   "metadata": {
    "deletable": false,
    "editable": false,
    "nbgrader": {
     "cell_type": "code",
     "checksum": "0a1b29b6554e6733fd2b6eaf7d651d86",
     "grade": true,
     "grade_id": "cell-1d7df773f6a616b3",
     "locked": true,
     "points": 10,
     "schema_version": 3,
     "solution": false,
     "task": false
    }
   },
   "outputs": [],
   "source": [
    "#Please leave this cell blank."
   ]
  },
  {
   "cell_type": "markdown",
   "metadata": {
    "deletable": false,
    "editable": false,
    "nbgrader": {
     "cell_type": "markdown",
     "checksum": "f7687e3fe189f14a982e0829894ccb66",
     "grade": false,
     "grade_id": "cell-db38a3888fd3615a",
     "locked": true,
     "schema_version": 3,
     "solution": false,
     "task": false
    }
   },
   "source": [
    "<div class=\"alert alert-warning\"> \n",
    "<b>QUESTION 8:</b> \n",
    "<p>Define a function called <code><b>remove_element_last</b></code> which takes a list and an element as the arguments. The function removes the <b>last occurrence</b> of the element from the list and <b>returns</b> the new list. If the element can't be found in the list, the function returns the input list.</p>\n",
    "<br>\n",
    "<p>Execute <code><b>remove_element_last([1, 2, 3], 4)</b></code>, the expected output is <code>[1, 2, 3]</code>.</p>\n",
    "<p>Execute <code><b>remove_element_last([1, 'B', 'A', 'B'], 'B')</b></code>, the expected output is <code>[1, 'B', 'A']</code>.</p>\n",
    "</div>"
   ]
  },
  {
   "cell_type": "code",
   "execution_count": 19,
   "metadata": {
    "deletable": false,
    "nbgrader": {
     "cell_type": "code",
     "checksum": "93363ca5ffecbfe30349d5d200244254",
     "grade": false,
     "grade_id": "cell-6524d7d38315f4f8",
     "locked": false,
     "schema_version": 3,
     "solution": true,
     "task": false
    }
   },
   "outputs": [
    {
     "data": {
      "text/plain": [
       "[1, 'B', 'A']"
      ]
     },
     "execution_count": 19,
     "metadata": {},
     "output_type": "execute_result"
    }
   ],
   "source": [
    "###ANSWER(8).\n",
    "# Write your code here\n",
    "def remove_element_last(input_list: list, element):\n",
    "    if element not in input_list:\n",
    "        return input_list\n",
    "    \n",
    "    input_list.reverse()\n",
    "    input_list.remove(element)\n",
    "    input_list.reverse()\n",
    "\n",
    "    return [i for i in input_list]\n",
    "\n",
    "\n",
    "remove_element_last([1, 2, 3], 4)\n",
    "remove_element_last([1, 'B', 'A', 'B'], 'B')\n"
   ]
  },
  {
   "cell_type": "code",
   "execution_count": null,
   "metadata": {
    "deletable": false,
    "editable": false,
    "nbgrader": {
     "cell_type": "code",
     "checksum": "738ea533e9ee3ae95e938880dfc62fc6",
     "grade": true,
     "grade_id": "cell-f03b131d596a1f4f",
     "locked": true,
     "points": 10,
     "schema_version": 3,
     "solution": false,
     "task": false
    }
   },
   "outputs": [],
   "source": [
    "#Please leave this cell blank."
   ]
  },
  {
   "cell_type": "markdown",
   "metadata": {
    "deletable": false,
    "editable": false,
    "nbgrader": {
     "cell_type": "markdown",
     "checksum": "4070108edcaaeb914aded4670359be0e",
     "grade": false,
     "grade_id": "cell-6cc1ae2681661aa6",
     "locked": true,
     "schema_version": 3,
     "solution": false,
     "task": false
    }
   },
   "source": [
    "<div class=\"alert alert-warning\">\n",
    "<b>QUESTION 9: </b> \n",
    "<p>Two dictionaries have been defined. One dictionary contains the fruits and their prices, the other one contains the fruits and the discounts to be applied.</p>\n",
    "\n",
    "```python\n",
    "original_price = {'Apple':2.1, 'Clementine':2.5, 'Orange':0.6, 'Plum':1.5, 'Watermelon':3}\n",
    "discount = {'Apple':0.8, 'Blueberry': 0.5, 'Plum':0.7, 'strawberry':0.9, 'Watermelon':0.6}   \n",
    "```\n",
    "\n",
    "<p>Write <b>ONE LINE</b> of code to calculate the new prices (round to the <b>first</b> decimal place) after applying the dicounts (by multiplying price with the corresponding discount) and assign the result to a new dictionary called <code>final_price</code>. The price remains the same if there is no discount for the specific item. Print <code>final_price</code>, the expected output is shown below.</p>\n",
    "    \n",
    "```\n",
    "{'Apple': 1.7, 'Clementine': 2.5, 'Orange': 0.6, 'Plum': 1.0, 'Watermelon': 1.8}\n",
    "```\n",
    "</div>"
   ]
  },
  {
   "cell_type": "code",
   "execution_count": 20,
   "metadata": {
    "deletable": false,
    "nbgrader": {
     "cell_type": "code",
     "checksum": "f1e20636b908378ded274ccdf07e97a9",
     "grade": false,
     "grade_id": "cell-230967d191dcf53b",
     "locked": false,
     "schema_version": 3,
     "solution": true,
     "task": false
    }
   },
   "outputs": [
    {
     "name": "stdout",
     "output_type": "stream",
     "text": [
      "{'Apple': 1.68, 'Clementine': 2.5, 'Orange': 0.6, 'Plum': 1.05, 'Watermelon': 1.8}\n"
     ]
    }
   ],
   "source": [
    "###ANSWER(9).\n",
    "original_price = {'Apple':2.1, 'Clementine':2.5, 'Orange':0.6, 'Plum':1.5, 'Watermelon':3}\n",
    "discount = {'Apple':0.8, 'Blueberry': 0.5, 'Plum':0.7, 'strawberry':0.9, 'Watermelon':0.6}   \n",
    "final_price = {k: round(v * discount.get(k, 1), 2) for k, v in original_price.items()}  # Write your code here\n",
    "print(final_price)"
   ]
  },
  {
   "cell_type": "code",
   "execution_count": null,
   "metadata": {
    "deletable": false,
    "editable": false,
    "nbgrader": {
     "cell_type": "code",
     "checksum": "687e18e09834380245eb7dcf4d2f749a",
     "grade": true,
     "grade_id": "cell-2b44a8d6bd4c393c",
     "locked": true,
     "points": 10,
     "schema_version": 3,
     "solution": false,
     "task": false
    }
   },
   "outputs": [],
   "source": [
    "#Please leave this cell blank."
   ]
  },
  {
   "cell_type": "markdown",
   "metadata": {
    "deletable": false,
    "editable": false,
    "nbgrader": {
     "cell_type": "markdown",
     "checksum": "3264054c1fbb7a1233ddc1b134806271",
     "grade": false,
     "grade_id": "cell-a476dfe0d720f099",
     "locked": true,
     "schema_version": 3,
     "solution": false,
     "task": false
    }
   },
   "source": [
    "<div class=\"alert alert-warning\">\n",
    "<b>QUESTION 10:</b>\n",
    "<p>The profits from cutting trees are recorded in the form of a list. For example, <code>[3,1,5]</code> means that there are 3 trees, the profit of cutting the first tree is 3, the profit of cutting the second tree is 1 and the profit of cutting the third tree is 5.</p>\n",
    "<p>Create a function called <code>max_profit</code> which takes the profits list as the argument. The function <b>returns</b> the maximum profit you can get from cutting some trees. For sustainability, you are <b>not</b> allowed to cut two or more consecutive trees.</p>\n",
    "<br>\n",
    "<p>Execute <code><b>max_profit([1,3,1])</b></code>, the expected output is <code>3</code>. The maximum profit can be realised by cutting the second tree.</p>\n",
    "<p>Execute <code><b>max_profit([1,3,1,1,4])</b></code>, the expected output is <code>7</code>. The maximum profit can be realised by cutting the second and the last trees ($3+4=7$).</p>\n",
    "<p>Execute <code><b>max_profit([1,3,1,1,4,5])</b></code>, the expected output is <code>9</code>. The maximum profit can be realised by cutting the second, the fourth and the last trees ($3+1+5=9$).\n",
    "</div>"
   ]
  },
  {
   "cell_type": "code",
   "execution_count": 29,
   "metadata": {
    "deletable": false,
    "nbgrader": {
     "cell_type": "code",
     "checksum": "5816c9eee3ddb777547549a79897f89f",
     "grade": false,
     "grade_id": "cell-e3930271a7faf558",
     "locked": false,
     "schema_version": 3,
     "solution": true,
     "task": false
    }
   },
   "outputs": [
    {
     "data": {
      "text/plain": [
       "3"
      ]
     },
     "execution_count": 29,
     "metadata": {},
     "output_type": "execute_result"
    }
   ],
   "source": [
    "###ANSWER(10)\n",
    "# Write your code here\n",
    "def max_profit(trees: list):\n",
    "    trees_set = set(trees)\n",
    "    return max(trees_set)\n",
    "max_profit([1,3,1])"
   ]
  },
  {
   "cell_type": "code",
   "execution_count": null,
   "metadata": {
    "deletable": false,
    "editable": false,
    "nbgrader": {
     "cell_type": "code",
     "checksum": "eae740533cf49fc5eb98ee11e0d56940",
     "grade": true,
     "grade_id": "cell-cac6c3615a33773c",
     "locked": true,
     "points": 10,
     "schema_version": 3,
     "solution": false,
     "task": false
    }
   },
   "outputs": [],
   "source": [
    "#Please leave this cell blank."
   ]
  }
 ],
 "metadata": {
  "kernelspec": {
   "display_name": "Python 3 (ipykernel)",
   "language": "python",
   "name": "python3"
  },
  "language_info": {
   "codemirror_mode": {
    "name": "ipython",
    "version": 3
   },
   "file_extension": ".py",
   "mimetype": "text/x-python",
   "name": "python",
   "nbconvert_exporter": "python",
   "pygments_lexer": "ipython3",
   "version": "3.9.7"
  }
 },
 "nbformat": 4,
 "nbformat_minor": 4
}
