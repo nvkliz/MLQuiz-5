{
 "cells": [
  {
   "cell_type": "markdown",
   "metadata": {
    "nbgrader": {
     "grade": false,
     "grade_id": "cell-8f753fb477124825",
     "locked": true,
     "schema_version": 3,
     "solution": false,
     "task": false
    }
   },
   "source": [
    "<div class=\"image\">\n",
    "\n",
    "  <img style=\"float: right;\" src=\"https://dx5i3n065oxey.cloudfront.net/platform/4186/assets/logo.png?v=2e76f927-9482-4bfb-9092-d9a0b595cd2c\" width=\"45%\" align=\"right\">\n",
    "      <h4>\n",
    "          <p style=\"font-size:20pt\">Programming for Business Analytics</p>\n",
    "          <p style=\"font-size:15pt\">Q5 Practice 2</p>\n",
    "      </h4>\n",
    "</div>\n",
    "\n",
    "- Make sure you have executed the code in the cell below.\n",
    "- Make sure you read the questions carefully and follow the instructions.\n",
    "- Make sure you put the answers in the Answer cells.\n",
    "- Please do not put your answers in comments (after #).\n",
    "- Please do not add any new cells between the Question and Answer cells.\n",
    "- Please do not change the names of the variables in Answer cells.\n",
    "- Please do not assign the expected result directly to the variable."
   ]
  },
  {
   "cell_type": "code",
   "execution_count": null,
   "metadata": {
    "nbgrader": {
     "grade": false,
     "grade_id": "cell-1caa724cde882d33",
     "locked": true,
     "schema_version": 3,
     "solution": false,
     "task": false
    }
   },
   "outputs": [],
   "source": [
    "#Please make sure your Jupyter Notebook environment is running a Python 3 kernel \n",
    "import IPython\n",
    "assert IPython.version_info[0] >= 3, \"Your version of IPython is too old, please update it.\"\n",
    "%autosave 120"
   ]
  },
  {
   "cell_type": "markdown",
   "metadata": {
    "nbgrader": {
     "grade": false,
     "grade_id": "cell-1ad54529b2804357",
     "locked": true,
     "schema_version": 3,
     "solution": false,
     "task": false
    }
   },
   "source": [
    "<div class=\"alert alert-warning\"> \n",
    "<b>QUESTION 1:</b> \n",
    "<p>Which of the following functions can be used to get the data type of a variable?</p>\n",
    "<p> a) <code><b>data()</b></code></p>\n",
    "<p> b) <code><b>datatype()</b></code></p>\n",
    "<p> c) <code><b>type()</b></code></p>\n",
    "<p> d) <code><b>tp()</b></code></p>\n",
    "\n",
    "</div>"
   ]
  },
  {
   "cell_type": "code",
   "execution_count": null,
   "metadata": {
    "nbgrader": {
     "grade": false,
     "grade_id": "cell-80a2f4212fce3781",
     "locked": false,
     "schema_version": 3,
     "solution": true,
     "task": false
    }
   },
   "outputs": [],
   "source": [
    "###ANSWER(1). Please assign the letter representing the correct answer to the variable \n",
    "### (write it down between the \"\")\n",
    "answer_1 = \"c\" # YOUR CODE SHOULD BE BETWEEN \"\""
   ]
  },
  {
   "cell_type": "code",
   "execution_count": null,
   "metadata": {
    "nbgrader": {
     "grade": true,
     "grade_id": "cell-835ced5bccf7799e",
     "locked": true,
     "points": 10,
     "schema_version": 3,
     "solution": false,
     "task": false
    }
   },
   "outputs": [],
   "source": [
    "#Please leave this cell blank."
   ]
  },
  {
   "cell_type": "markdown",
   "metadata": {
    "nbgrader": {
     "grade": false,
     "grade_id": "cell-aada8bc67a36bd6f",
     "locked": true,
     "schema_version": 3,
     "solution": false,
     "task": false
    }
   },
   "source": [
    "<div class=\"alert alert-warning\"> \n",
    "<b>QUESTION 2:</b>\n",
    "<p>Write <b>ONE LINE</b> of code to define a string and assign the value to the variable <code>answer_2</code>. If we print <code>answer_2</code>, the expected output is shown as below. Make sure the printout is <b>Identical</b>.</p>\n",
    "\n",
    "```\n",
    "File found in folder:\n",
    "C:\\Users\\Pat\\Desktop\n",
    "\n",
    "Press \"enter\" to open.\n",
    "```\n",
    "\n",
    "</div>"
   ]
  },
  {
   "cell_type": "code",
   "execution_count": null,
   "metadata": {
    "nbgrader": {
     "grade": false,
     "grade_id": "cell-75304455a1925d44",
     "locked": false,
     "schema_version": 3,
     "solution": true,
     "task": false
    }
   },
   "outputs": [],
   "source": [
    "###ANSWER(2)\n",
    "answer_2 = \"File found in folder:\\nC:\\\\Users\\\\Pat\\\\Desktop\\n\\nPress \\\"enter\\\" to open.\"  # complete the code here, you are NOT allowed to change the quotation marks\n",
    "print(answer_2)"
   ]
  },
  {
   "cell_type": "code",
   "execution_count": null,
   "metadata": {
    "nbgrader": {
     "grade": true,
     "grade_id": "cell-a098b5b94b8c3138",
     "locked": true,
     "points": 10,
     "schema_version": 3,
     "solution": false,
     "task": false
    }
   },
   "outputs": [],
   "source": [
    "#Please leave this cell blank."
   ]
  },
  {
   "cell_type": "markdown",
   "metadata": {
    "nbgrader": {
     "grade": false,
     "grade_id": "cell-98843bd7c0abf400",
     "locked": true,
     "schema_version": 3,
     "solution": false,
     "task": false
    }
   },
   "source": [
    "<div class=\"alert alert-warning\">\n",
    "<b>QUESTION 3:</b>\n",
    "<p> Define a function called <code><b>update_keys</b></code> which takes two dictionaries as the arguments. The function would rename the keys in the first dictionary based on the second dictionary. The keys in the second dictionary are the \"old keys\" and the values are the \"new keys\". The updated dictionary will be returned by the function.</p>\n",
    "<br>\n",
    "    <p> Please note the function would <b>ONLY</b> update the keys that are found in the second dictionary. If no keys are found in the second dictionary, the first dictionary would be returned without any key being renamed.</p>\n",
    "<br>\n",
    "    <p>Execute <code><b>update_keys({'key_0':'Jamie', 'age':25, 'key_2':3000},{'key_0':'name', 'key_2':'salary'})</b></code>, the expected output is <code>{'age': 25, 'salary': 3000, 'name': 'Jamie'}</code>.</p>\n",
    "    <p>Execute <code><b>update_keys({'key_0':'Jamie', 'age':25, 'key_2':3000},{'key_0':'name', 'key_1':'salary'})</b></code>, the expected output is <code>{'age': 25, 'key_2': 3000, 'name': 'Jamie'}</code>.</p>\n",
    "</div>"
   ]
  },
  {
   "cell_type": "code",
   "execution_count": 2,
   "metadata": {
    "nbgrader": {
     "grade": false,
     "grade_id": "cell-fc65c2d9c992e18b",
     "locked": false,
     "schema_version": 3,
     "solution": true,
     "task": false
    }
   },
   "outputs": [
    {
     "data": {
      "text/plain": [
       "{'age': 25, 'salary': 3000, 'name': 'Jamie'}"
      ]
     },
     "execution_count": 2,
     "metadata": {},
     "output_type": "execute_result"
    }
   ],
   "source": [
    "###ANSWER(3)\n",
    "# Please write your code here.\n",
    "def update_keys(dict_1, dict_2):\n",
    "    common_keys = dict_1.keys()&dict_2.keys()\n",
    "    if len(common_keys)>0:\n",
    "        for common_key in common_keys:\n",
    "            dict_1[dict_2[common_key]] = dict_1.pop(common_key)\n",
    "    return dict_1\n",
    "update_keys({'key_0':'Jamie', 'age':25, 'key_2':3000},{'key_0':'name', 'key_2':'salary'})"
   ]
  },
  {
   "cell_type": "code",
   "execution_count": null,
   "metadata": {
    "nbgrader": {
     "grade": true,
     "grade_id": "cell-d0b4b4331fc9729a",
     "locked": true,
     "points": 10,
     "schema_version": 3,
     "solution": false,
     "task": false
    }
   },
   "outputs": [],
   "source": [
    "#Please leave this cell blank."
   ]
  },
  {
   "cell_type": "markdown",
   "metadata": {
    "nbgrader": {
     "grade": false,
     "grade_id": "cell-b40001da61c03623",
     "locked": true,
     "schema_version": 3,
     "solution": false,
     "task": false
    }
   },
   "source": [
    "<div class=\"alert alert-warning\">\n",
    "<b>QUESTION 4:</b>\n",
    "<p>Two lists have been defined in the cell below. </p>\n",
    "    \n",
    "```python\n",
    "list_1 = [1, 3, 4, 8, 'b', 'a', 'd']\n",
    "list_2 = [1, 2, 3, 5, 'b', 'c', 'd']\n",
    "```\n",
    "    \n",
    "<p>Write <b>ONE LINE</b> of code to find the elements are the items in either <code>list_1</code> or <code>list_2</code> but not both and assign the value to a new list called <code>list_3</code>. If we print <code>list_3</code>, the expected output is <code>[2, 4, 5, 8, 'a', 'c']</code>.</p>\n",
    "<br>\n",
    "    <p>Do <b>NOT</b> write <code>list_3 = [2, 4, 5, 8, 'a', 'c']</code> directly.</p>\n",
    "</div>"
   ]
  },
  {
   "cell_type": "code",
   "execution_count": null,
   "metadata": {
    "nbgrader": {
     "grade": false,
     "grade_id": "cell-fbedf414f1b54709",
     "locked": false,
     "schema_version": 3,
     "solution": true,
     "task": false
    }
   },
   "outputs": [],
   "source": [
    "###ANSWER(4)\n",
    "list_1 = [1, 3, 4, 8, 'b', 'a', 'd']\n",
    "list_2 = [1, 2, 3, 5, 'b', 'c', 'd']\n",
    "list_3 = list(set(list_1)^set(list_2))  # Please write your code here in one line"
   ]
  },
  {
   "cell_type": "code",
   "execution_count": null,
   "metadata": {
    "nbgrader": {
     "grade": true,
     "grade_id": "cell-458bae9d4b589c32",
     "locked": true,
     "points": 10,
     "schema_version": 3,
     "solution": false,
     "task": false
    }
   },
   "outputs": [],
   "source": [
    "#Please leave this cell blank."
   ]
  },
  {
   "cell_type": "markdown",
   "metadata": {
    "nbgrader": {
     "grade": false,
     "grade_id": "cell-886c58d8ef016fa5",
     "locked": true,
     "schema_version": 3,
     "solution": false,
     "task": false
    }
   },
   "source": [
    "<div class=\"alert alert-warning\">\n",
    "<b>QUESTION 5:</b>\n",
    "<p>A list called <code>nums</code> has been defined in the cell below. </p>\n",
    "\n",
    "```python\n",
    "nums = [[1,4,7],[2,9,5],[7,3,5],[6,8,9],[9,1,3],[8,7,2],[3,8,4],[4,7,2]]\n",
    "```\n",
    "    \n",
    "<p>Write <b>ONE LINE</b> of code to find the index of the maximum value in the corresponding sublist from <code>nums</code> and assign the value to a new list called <code>max_idx</code>. If we print <code>max_idx</code>, the expected output is <code>[2, 1, 0, 2, 0, 0, 1, 1]</code>.</p>\n",
    "\n",
    "<br>\n",
    "Do <b>NOT</b> write <code>max_idx = [2, 1, 0, 2, 0, 0, 1, 1]</code> directly.\n",
    "    \n",
    "</div>"
   ]
  },
  {
   "cell_type": "code",
   "execution_count": null,
   "metadata": {
    "nbgrader": {
     "grade": false,
     "grade_id": "cell-a93421f18c19f199",
     "locked": false,
     "schema_version": 3,
     "solution": true,
     "task": false
    }
   },
   "outputs": [],
   "source": [
    "###ANSWER(5)\n",
    "nums = [[1,4,7],[2,9,5],[7,3,5],[6,8,9],[9,1,3],[8,7,2],[3,8,4],[4,7,2]]\n",
    "max_idx = [i.index(max(i)) for i in nums] # Please write your code here in one line\n",
    "print(max_idx)"
   ]
  },
  {
   "cell_type": "code",
   "execution_count": null,
   "metadata": {
    "nbgrader": {
     "grade": true,
     "grade_id": "cell-3378c131f260174d",
     "locked": true,
     "points": 10,
     "schema_version": 3,
     "solution": false,
     "task": false
    }
   },
   "outputs": [],
   "source": [
    "#Please leave this cell blank."
   ]
  },
  {
   "cell_type": "markdown",
   "metadata": {
    "nbgrader": {
     "grade": false,
     "grade_id": "cell-f12a35c8e63787f7",
     "locked": true,
     "schema_version": 3,
     "solution": false,
     "task": false
    }
   },
   "source": [
    "<div class=\"alert alert-warning\">\n",
    "<b>QUESTION 6: </b> \n",
    "<p> Define a function called <code><b>acc_score</b></code> which takes two lists as the arguments. The first list contains the labels for some data points and the second list contains the predicted labels for those data points. The function would <b>return</b> the accuracy score of the prediction. Accuracy score is defined as the number of correct predictions made divided by the total number of predictions made.</p>\n",
    "<br>\n",
    "<p> Please note that the data type of the labels could be number or string. Make sure the function can deal with inputs with any type of labels. You are <b>NOT</b> allowed to use any additional packages in the function.</p>\n",
    "<br>\n",
    "    <p>Execute <code><b>acc_score(['A', 'B', 'C', 'D'],['A', 'A', 'A', 'A'])</b></code>, the expected output is <code>0.25</code>.</p>\n",
    "    <p>Execute <code><b>acc_score([0, 2, 1, 3],[0, 1, 2, 3])</b></code>, the expected output is <code>0.5</code>.</p>\n",
    "    <p>Execute <code><b>acc_score(['YES', 'NO', 'YES'],['YES', 'NO', 'YES'])</b></code>, the expected output is <code>1.0</code>.</p>\n",
    "</div>"
   ]
  },
  {
   "cell_type": "code",
   "execution_count": null,
   "metadata": {
    "nbgrader": {
     "grade": false,
     "grade_id": "cell-5d9a5ebd9c5d23e0",
     "locked": false,
     "schema_version": 3,
     "solution": true,
     "task": false
    }
   },
   "outputs": [],
   "source": [
    "###ANSWER(6)\n",
    "# Please write your code here.\n",
    "def acc_score(ground_truth, prediction):\n",
    "    return sum([ground_truth[idx]==prediction[idx] for idx in range(len(ground_truth))])/len(prediction)"
   ]
  },
  {
   "cell_type": "code",
   "execution_count": null,
   "metadata": {
    "nbgrader": {
     "grade": true,
     "grade_id": "cell-5904cbe2279e80f0",
     "locked": true,
     "points": 10,
     "schema_version": 3,
     "solution": false,
     "task": false
    }
   },
   "outputs": [],
   "source": [
    "#Please leave this cell blank."
   ]
  },
  {
   "cell_type": "markdown",
   "metadata": {
    "nbgrader": {
     "grade": false,
     "grade_id": "cell-92390d6703f5d568",
     "locked": true,
     "schema_version": 3,
     "solution": false,
     "task": false
    }
   },
   "source": [
    "<div class=\"alert alert-warning\">\n",
    "<b>QUESTION 7:</b>\n",
    "<p>Two lists have been defined in the cell below. </p>\n",
    "\n",
    "```python\n",
    "keys = ['London', 'Manchester', 'Birmingham', 'Leeds']\n",
    "values = [9.3, 2.7, 2.6, 1.9]\n",
    "```\n",
    "    \n",
    "<p>Define a dictionary called <code>dict_7</code> where the keys are from list <code>keys</code> and the values are from list <code>values</code>. If we print <code>dict_7</code>, the expected output is <code>{'London': 9.3, 'Manchester': 2.7, 'Birmingham': 2.6, 'Leeds': 1.9}</code>.</p>\n",
    "<br>\n",
    "<p>Do <b>NOT</b> write <code>dict_7 = {'London': 9.3, 'Manchester': 2.7, 'Birmingham': 2.6, 'Leeds': 1.9}</code> directly.</p>\n",
    "</div>"
   ]
  },
  {
   "cell_type": "code",
   "execution_count": 2,
   "metadata": {
    "nbgrader": {
     "grade": false,
     "grade_id": "cell-7e4015568b0a31f9",
     "locked": false,
     "schema_version": 3,
     "solution": true,
     "task": false
    }
   },
   "outputs": [
    {
     "name": "stdout",
     "output_type": "stream",
     "text": [
      "{'London': 9.3, 'Manchester': 2.7, 'Birmingham': 2.6, 'Leeds': 1.9}\n"
     ]
    }
   ],
   "source": [
    "###ANSWER(7)\n",
    "keys = ['London', 'Manchester', 'Birmingham', 'Leeds']\n",
    "values = [9.3, 2.7, 2.6, 1.9]\n",
    "dict_7 = dict(zip(keys, values)) # Please write your code here\n",
    "print(dict_7)"
   ]
  },
  {
   "cell_type": "code",
   "execution_count": null,
   "metadata": {
    "nbgrader": {
     "grade": true,
     "grade_id": "cell-f0b3dc82503af981",
     "locked": true,
     "points": 10,
     "schema_version": 3,
     "solution": false,
     "task": false
    }
   },
   "outputs": [],
   "source": [
    "#Please leave this cell blank."
   ]
  },
  {
   "cell_type": "markdown",
   "metadata": {
    "nbgrader": {
     "grade": false,
     "grade_id": "cell-c8fd49e4f0dbffbc",
     "locked": true,
     "schema_version": 3,
     "solution": false,
     "task": false
    }
   },
   "source": [
    "<div class=\"alert alert-warning\">\n",
    "<b>QUESTION 8:</b>\n",
    "<p>A list has been defined in the cell below. </p>\n",
    "    \n",
    "```python\n",
    "the_list = ['this', 'is', 'a', 'list']    \n",
    "```\n",
    "\n",
    "<p>Use <b>list comprehension</b> to change the strings in the list to upper case ones and assign the value to <code>the_list</code>. If we print <code>the_list</code>, the expected output is <code>['THIS', 'IS', 'A', 'LIST']</code>.</p>\n",
    "</div>"
   ]
  },
  {
   "cell_type": "code",
   "execution_count": null,
   "metadata": {
    "nbgrader": {
     "grade": false,
     "grade_id": "cell-3fdc0102cbf9d5f7",
     "locked": false,
     "schema_version": 3,
     "solution": true,
     "task": false
    }
   },
   "outputs": [],
   "source": [
    "###ANSWER(8)\n",
    "the_list = ['this', 'is', 'a', 'list']\n",
    "the_list = [i.upper() for i in the_list] # Please write your code here \n",
    "print(the_list)"
   ]
  },
  {
   "cell_type": "code",
   "execution_count": null,
   "metadata": {
    "nbgrader": {
     "grade": true,
     "grade_id": "cell-44a8896bf93ef803",
     "locked": true,
     "points": 10,
     "schema_version": 3,
     "solution": false,
     "task": false
    }
   },
   "outputs": [],
   "source": [
    "#Please leave this cell blank."
   ]
  },
  {
   "cell_type": "markdown",
   "metadata": {
    "nbgrader": {
     "grade": false,
     "grade_id": "cell-ce03aa2a82480452",
     "locked": true,
     "schema_version": 3,
     "solution": false,
     "task": false
    }
   },
   "source": [
    "<div class=\"alert alert-warning\">\n",
    "<b>QUESTION 9:</b>\n",
    "<p> Define a function called <code><b>remove_element</b></code> which takes two arguments. The first argument is a list and the second argument is an element to be removed from the the list. The function would remove <b>all occurrences</b> of the element from the list and <b>return</b> the resulting list.</p>\n",
    "\n",
    "<br>\n",
    "    <p>Execute <code><b>remove_element([1, 2, 3], 2)</b></code>, the expected output is <code>[1, 3]</code>.</p>\n",
    "    <p>Execute <code><b>remove_element([1, 'B', 'A', 'B'], 'B')</b></code>, the expected output is <code>[1, 'A']</code>.</p>\n",
    "    <p>Execute <code><b>remove_element([1, 2, 3], 4)</b></code>, the expected output is <code>[1, 2, 3]</code>.</p>\n",
    "</div>"
   ]
  },
  {
   "cell_type": "code",
   "execution_count": null,
   "metadata": {
    "nbgrader": {
     "grade": false,
     "grade_id": "cell-ee49baa245a47441",
     "locked": false,
     "schema_version": 3,
     "solution": true,
     "task": false
    }
   },
   "outputs": [],
   "source": [
    "###ANSWER(9)\n",
    "# Please write your code here.\n",
    "def remove_element(the_list, the_element):\n",
    "    return([i for i in the_list if i!=the_element])"
   ]
  },
  {
   "cell_type": "code",
   "execution_count": null,
   "metadata": {
    "nbgrader": {
     "grade": true,
     "grade_id": "cell-796e03ade7fbe14b",
     "locked": true,
     "points": 10,
     "schema_version": 3,
     "solution": false,
     "task": false
    }
   },
   "outputs": [],
   "source": [
    "#Please leave this cell blank."
   ]
  },
  {
   "cell_type": "markdown",
   "metadata": {
    "nbgrader": {
     "grade": false,
     "grade_id": "cell-20d1d3be2b1c1693",
     "locked": true,
     "schema_version": 3,
     "solution": false,
     "task": false
    }
   },
   "source": [
    "<div class=\"alert alert-warning\">\n",
    "<b>QUESTION 10: </b> \n",
    "<p> Define a function called <code><b>remove_last_match</b></code> which takes two strings <code>string_1</code> and <code>string_2</code> as the arguments. The function would remove the last appearance of <code>string_2</code> from <code>string_1</code> and return the result. The function would return <code>string_1</code> if <code>string_2</code> is not a substring of <code>string_1</code>.</p>\n",
    "\n",
    "<br>\n",
    "<p>Execute <code><b>remove_last_match('abcabc','ab')</b></code>, the expected output is <code>'abcc'</code>. </p>\n",
    "<p>Execute <code><b>remove_last_match('abcabc','b')</b></code>, the expected output is <code>'abcac'</code>. </p>\n",
    "<p>Execute <code><b>remove_last_match('abcabc','d')</b></code>, the expected output is <code>'abcabc'</code>. </p>\n",
    "</div>"
   ]
  },
  {
   "cell_type": "code",
   "execution_count": null,
   "metadata": {
    "nbgrader": {
     "grade": false,
     "grade_id": "cell-73b9e7dab46bf048",
     "locked": false,
     "schema_version": 3,
     "solution": true,
     "task": false
    }
   },
   "outputs": [],
   "source": [
    "###ANSWER(10)\n",
    "# Please write your code here.\n",
    "def remove_last_match(string_1, string_2):\n",
    "    if string_2 in string_1:\n",
    "        return string_1[::-1].replace(string_2[::-1], '', 1)[::-1]\n",
    "    else:\n",
    "        return string_1"
   ]
  },
  {
   "cell_type": "code",
   "execution_count": null,
   "metadata": {
    "nbgrader": {
     "grade": true,
     "grade_id": "cell-6163faa5ff5575be",
     "locked": true,
     "points": 10,
     "schema_version": 3,
     "solution": false,
     "task": false
    }
   },
   "outputs": [],
   "source": [
    "#Please leave this cell blank."
   ]
  }
 ],
 "metadata": {
  "kernelspec": {
   "display_name": "Python 3 (ipykernel)",
   "language": "python",
   "name": "python3"
  },
  "language_info": {
   "codemirror_mode": {
    "name": "ipython",
    "version": 3
   },
   "file_extension": ".py",
   "mimetype": "text/x-python",
   "name": "python",
   "nbconvert_exporter": "python",
   "pygments_lexer": "ipython3",
   "version": "3.9.7"
  }
 },
 "nbformat": 4,
 "nbformat_minor": 4
}
